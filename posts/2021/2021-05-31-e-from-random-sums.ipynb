{
 "cells": [
  {
   "cell_type": "raw",
   "metadata": {},
   "source": [
    "---\n",
    "aliases:\n",
    "- /algorythms/twitter/2021/05/31/e-from-random-sums\n",
    "author: David Dobrinskiy\n",
    "badges: true\n",
    "categories:\n",
    "- algorythms\n",
    "- twitter\n",
    "date: '2021-05-31'\n",
    "output-file: 2021-05-31-e-from-random-sums.html\n",
    "title: e from random sums\n",
    "toc: false\n",
    "\n",
    "---\n",
    "\n"
   ]
  },
  {
   "cell_type": "markdown",
   "id": "lasting-medicine",
   "metadata": {},
   "source": [
    "```\n",
    "select numbers between 0 and 1 randomly until sum is > 1\n",
    "\n",
    "The expected # of selections needed is equal to e\n",
    "```"
   ]
  },
  {
   "cell_type": "code",
   "execution_count": 1,
   "id": "smart-shame",
   "metadata": {
    "execution": {
     "iopub.execute_input": "2021-05-31T13:49:13.468779Z",
     "iopub.status.busy": "2021-05-31T13:49:13.468252Z",
     "iopub.status.idle": "2021-05-31T13:49:13.822612Z",
     "shell.execute_reply": "2021-05-31T13:49:13.821827Z",
     "shell.execute_reply.started": "2021-05-31T13:49:13.468622Z"
    },
    "tags": []
   },
   "outputs": [],
   "source": [
    "# setup imports\n",
    "import math\n",
    "from typing import Tuple\n",
    "\n",
    "import numpy as np\n",
    "import pandas as pd\n",
    "from tqdm.notebook import trange"
   ]
  },
  {
   "cell_type": "code",
   "execution_count": 5,
   "id": "wired-closing",
   "metadata": {
    "execution": {
     "iopub.execute_input": "2021-05-31T13:51:02.841306Z",
     "iopub.status.busy": "2021-05-31T13:51:02.841004Z",
     "iopub.status.idle": "2021-05-31T13:51:14.386364Z",
     "shell.execute_reply": "2021-05-31T13:51:14.385634Z",
     "shell.execute_reply.started": "2021-05-31T13:51:02.841286Z"
    },
    "tags": []
   },
   "outputs": [
    {
     "data": {
      "application/vnd.jupyter.widget-view+json": {
       "model_id": "c154afbaa1724413a73f3bd3816c6fb8",
       "version_major": 2,
       "version_minor": 0
      },
      "text/plain": [
       "  0%|          | 0/2000000 [00:00<?, ?it/s]"
      ]
     },
     "metadata": {},
     "output_type": "display_data"
    },
    {
     "data": {
      "text/html": [
       "<div>\n",
       "<style scoped>\n",
       "    .dataframe tbody tr th:only-of-type {\n",
       "        vertical-align: middle;\n",
       "    }\n",
       "\n",
       "    .dataframe tbody tr th {\n",
       "        vertical-align: top;\n",
       "    }\n",
       "\n",
       "    .dataframe thead th {\n",
       "        text-align: right;\n",
       "    }\n",
       "</style>\n",
       "<table border=\"1\" class=\"dataframe\">\n",
       "  <thead>\n",
       "    <tr style=\"text-align: right;\">\n",
       "      <th></th>\n",
       "      <th>sum</th>\n",
       "      <th>nums_to_one</th>\n",
       "    </tr>\n",
       "  </thead>\n",
       "  <tbody>\n",
       "    <tr>\n",
       "      <th>0</th>\n",
       "      <td>1.160454</td>\n",
       "      <td>2</td>\n",
       "    </tr>\n",
       "    <tr>\n",
       "      <th>1</th>\n",
       "      <td>1.099141</td>\n",
       "      <td>2</td>\n",
       "    </tr>\n",
       "    <tr>\n",
       "      <th>2</th>\n",
       "      <td>1.171709</td>\n",
       "      <td>3</td>\n",
       "    </tr>\n",
       "    <tr>\n",
       "      <th>3</th>\n",
       "      <td>1.664728</td>\n",
       "      <td>3</td>\n",
       "    </tr>\n",
       "    <tr>\n",
       "      <th>4</th>\n",
       "      <td>1.291741</td>\n",
       "      <td>2</td>\n",
       "    </tr>\n",
       "  </tbody>\n",
       "</table>\n",
       "</div>"
      ],
      "text/plain": [
       "        sum  nums_to_one\n",
       "0  1.160454            2\n",
       "1  1.099141            2\n",
       "2  1.171709            3\n",
       "3  1.664728            3\n",
       "4  1.291741            2"
      ]
     },
     "execution_count": 5,
     "metadata": {},
     "output_type": "execute_result"
    }
   ],
   "source": [
    "def run_experiment() -> Tuple[float, int]:\n",
    "    s = 0\n",
    "    n = 0\n",
    "\n",
    "    while s <= 1:\n",
    "        n += 1\n",
    "        s += np.random.uniform(0, 1)\n",
    "\n",
    "    return s, n\n",
    "\n",
    "\n",
    "logs = [run_experiment() for _ in trange(2_000_000)]\n",
    "\n",
    "df = pd.DataFrame(logs, columns=[\"sum\", \"nums_to_one\"])\n",
    "df.head()"
   ]
  },
  {
   "cell_type": "code",
   "execution_count": 6,
   "id": "legal-methodology",
   "metadata": {
    "execution": {
     "iopub.execute_input": "2021-05-31T13:51:14.387851Z",
     "iopub.status.busy": "2021-05-31T13:51:14.387646Z",
     "iopub.status.idle": "2021-05-31T13:51:14.405657Z",
     "shell.execute_reply": "2021-05-31T13:51:14.403716Z",
     "shell.execute_reply.started": "2021-05-31T13:51:14.387832Z"
    },
    "tags": []
   },
   "outputs": [
    {
     "data": {
      "text/markdown": [
       "\n",
       "```\n",
       "euler's number: 2.718282\n",
       "avg num to one: 2.717664\n",
       "     avg sum*2: 2.718284\n",
       "```\n"
      ],
      "text/plain": [
       "<IPython.core.display.Markdown object>"
      ]
     },
     "metadata": {},
     "output_type": "display_data"
    }
   ],
   "source": [
    "# | echo: false\n",
    "from IPython.display import Markdown, display\n",
    "\n",
    "display(\n",
    "    Markdown(\n",
    "        f\"\"\"\n",
    "```\n",
    "euler's number: {math.e:.6f}\n",
    "avg num to one: {df['nums_to_one'].mean():.6f}\n",
    "     avg sum*2: {df['sum'].mean()*2:.6f}\n",
    "```\n",
    "\"\"\"\n",
    "    )\n",
    ")"
   ]
  },
  {
   "cell_type": "code",
   "execution_count": 7,
   "id": "democratic-english",
   "metadata": {
    "execution": {
     "iopub.execute_input": "2021-05-31T13:51:14.411358Z",
     "iopub.status.busy": "2021-05-31T13:51:14.410538Z",
     "iopub.status.idle": "2021-05-31T13:51:14.616345Z",
     "shell.execute_reply": "2021-05-31T13:51:14.615529Z",
     "shell.execute_reply.started": "2021-05-31T13:51:14.411293Z"
    },
    "tags": []
   },
   "outputs": [
    {
     "data": {
      "text/html": [
       "<div>\n",
       "<style scoped>\n",
       "    .dataframe tbody tr th:only-of-type {\n",
       "        vertical-align: middle;\n",
       "    }\n",
       "\n",
       "    .dataframe tbody tr th {\n",
       "        vertical-align: top;\n",
       "    }\n",
       "\n",
       "    .dataframe thead th {\n",
       "        text-align: right;\n",
       "    }\n",
       "</style>\n",
       "<table border=\"1\" class=\"dataframe\">\n",
       "  <thead>\n",
       "    <tr style=\"text-align: right;\">\n",
       "      <th></th>\n",
       "      <th>sum</th>\n",
       "      <th>nums_to_one</th>\n",
       "    </tr>\n",
       "  </thead>\n",
       "  <tbody>\n",
       "    <tr>\n",
       "      <th>count</th>\n",
       "      <td>2.000000e+06</td>\n",
       "      <td>2.000000e+06</td>\n",
       "    </tr>\n",
       "    <tr>\n",
       "      <th>mean</th>\n",
       "      <td>1.359142e+00</td>\n",
       "      <td>2.717664e+00</td>\n",
       "    </tr>\n",
       "    <tr>\n",
       "      <th>std</th>\n",
       "      <td>2.425132e-01</td>\n",
       "      <td>8.745580e-01</td>\n",
       "    </tr>\n",
       "    <tr>\n",
       "      <th>min</th>\n",
       "      <td>1.000000e+00</td>\n",
       "      <td>2.000000e+00</td>\n",
       "    </tr>\n",
       "    <tr>\n",
       "      <th>25%</th>\n",
       "      <td>1.152672e+00</td>\n",
       "      <td>2.000000e+00</td>\n",
       "    </tr>\n",
       "    <tr>\n",
       "      <th>50%</th>\n",
       "      <td>1.325424e+00</td>\n",
       "      <td>2.000000e+00</td>\n",
       "    </tr>\n",
       "    <tr>\n",
       "      <th>75%</th>\n",
       "      <td>1.538078e+00</td>\n",
       "      <td>3.000000e+00</td>\n",
       "    </tr>\n",
       "    <tr>\n",
       "      <th>max</th>\n",
       "      <td>1.999527e+00</td>\n",
       "      <td>9.000000e+00</td>\n",
       "    </tr>\n",
       "  </tbody>\n",
       "</table>\n",
       "</div>"
      ],
      "text/plain": [
       "                sum   nums_to_one\n",
       "count  2.000000e+06  2.000000e+06\n",
       "mean   1.359142e+00  2.717664e+00\n",
       "std    2.425132e-01  8.745580e-01\n",
       "min    1.000000e+00  2.000000e+00\n",
       "25%    1.152672e+00  2.000000e+00\n",
       "50%    1.325424e+00  2.000000e+00\n",
       "75%    1.538078e+00  3.000000e+00\n",
       "max    1.999527e+00  9.000000e+00"
      ]
     },
     "execution_count": 7,
     "metadata": {},
     "output_type": "execute_result"
    }
   ],
   "source": [
    "df.describe()"
   ]
  }
 ],
 "metadata": {
  "kernelspec": {
   "display_name": "py38",
   "language": "python",
   "name": "py38"
  },
  "language_info": {
   "codemirror_mode": {
    "name": "ipython",
    "version": 3
   },
   "file_extension": ".py",
   "mimetype": "text/x-python",
   "name": "python",
   "nbconvert_exporter": "python",
   "pygments_lexer": "ipython3",
   "version": "3.8.5"
  }
 },
 "nbformat": 4,
 "nbformat_minor": 5
}
