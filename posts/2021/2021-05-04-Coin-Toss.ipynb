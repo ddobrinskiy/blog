{
 "cells": [
  {
   "cell_type": "raw",
   "metadata": {},
   "source": [
    "---\n",
    "aliases:\n",
    "- /algorythms/leetcode/twitter/2021/05/04/Coin-Toss\n",
    "author: David Dobrinskiy\n",
    "badges: true\n",
    "categories:\n",
    "- leetcode\n",
    "- algorythms\n",
    "- twitter\n",
    "date: '2021-05-04'\n",
    "description: simulating a problem from twitter\n",
    "output-file: 2021-05-04-coin-toss.html\n",
    "title: Find the two-headed coin\n",
    "toc: true\n",
    "\n",
    "---\n",
    "\n"
   ]
  },
  {
   "cell_type": "markdown",
   "id": "sophisticated-algebra",
   "metadata": {},
   "source": [
    "## Problem\n",
    "\n",
    "There are 10 coins sitting on a table \"heads\" up. Among them, 9 are fair coins while 1 of them has a Head on the two sides. You are allowed to 10 flips: can you find a strategy that finds the two-headed coins more than ~36% of the time? #maths #probability #riddle       \n",
    "\n",
    "https://twitter.com/thienan496/status/1385111543193296897?s=20"
   ]
  },
  {
   "cell_type": "markdown",
   "id": "catholic-companion",
   "metadata": {},
   "source": [
    "## Solution\n",
    "\n",
    "This seems to work ~60%.\n",
    "\n",
    "```\n",
    "1) Pick the first coin and keep tossing it until it shows tails; if it does, move on to the next coin.\n",
    "2) hen we run out of tosses, if we've tossed a coin that never showed us tails, make that our guess.\n",
    "3) Otherwise, guess at random from all the untested coins.\n",
    "```"
   ]
  },
  {
   "cell_type": "code",
   "execution_count": 2,
   "id": "mental-experiment",
   "metadata": {
    "execution": {
     "iopub.execute_input": "2021-05-04T13:32:24.576799Z",
     "iopub.status.busy": "2021-05-04T13:32:24.576624Z",
     "iopub.status.idle": "2021-05-04T13:32:24.580679Z",
     "shell.execute_reply": "2021-05-04T13:32:24.579453Z",
     "shell.execute_reply.started": "2021-05-04T13:32:24.576782Z"
    },
    "tags": []
   },
   "outputs": [],
   "source": [
    "from dataclasses import dataclass\n",
    "\n",
    "import numpy as np\n",
    "import pandas as pd"
   ]
  },
  {
   "cell_type": "code",
   "execution_count": 3,
   "id": "discrete-wireless",
   "metadata": {
    "execution": {
     "iopub.execute_input": "2021-05-04T13:32:24.582375Z",
     "iopub.status.busy": "2021-05-04T13:32:24.582084Z",
     "iopub.status.idle": "2021-05-04T13:32:24.601996Z",
     "shell.execute_reply": "2021-05-04T13:32:24.601073Z",
     "shell.execute_reply.started": "2021-05-04T13:32:24.582335Z"
    },
    "tags": []
   },
   "outputs": [],
   "source": [
    "class Coin:\n",
    "    def __init__(self, is_fair=True):\n",
    "\n",
    "        if is_fair:\n",
    "            self.sides = [\"H\", \"T\"]\n",
    "        else:\n",
    "            self.sides = [\"H\", \"H\"]\n",
    "\n",
    "    def toss(self):\n",
    "        return np.random.choice(self.sides)\n",
    "\n",
    "    @property\n",
    "    def is_fair(self):\n",
    "        return self.sides[0] != self.sides[1]\n",
    "\n",
    "    @property\n",
    "    def is_fake(self):\n",
    "        return not self.is_fair\n",
    "\n",
    "    def __repr__(self):\n",
    "        return str(self.sides)"
   ]
  },
  {
   "cell_type": "code",
   "execution_count": 4,
   "id": "detailed-miracle",
   "metadata": {
    "execution": {
     "iopub.execute_input": "2021-05-04T13:32:24.603278Z",
     "iopub.status.busy": "2021-05-04T13:32:24.603040Z",
     "iopub.status.idle": "2021-05-04T13:32:24.625486Z",
     "shell.execute_reply": "2021-05-04T13:32:24.624507Z",
     "shell.execute_reply.started": "2021-05-04T13:32:24.603255Z"
    },
    "tags": []
   },
   "outputs": [
    {
     "data": {
      "text/plain": [
       "(['H', 'T'], True)"
      ]
     },
     "execution_count": 4,
     "metadata": {},
     "output_type": "execute_result"
    }
   ],
   "source": [
    "c1 = Coin(is_fair=True)\n",
    "c1, c1.is_fair"
   ]
  },
  {
   "cell_type": "code",
   "execution_count": 5,
   "id": "reserved-times",
   "metadata": {
    "execution": {
     "iopub.execute_input": "2021-05-04T13:32:24.626740Z",
     "iopub.status.busy": "2021-05-04T13:32:24.626418Z",
     "iopub.status.idle": "2021-05-04T13:32:25.751759Z",
     "shell.execute_reply": "2021-05-04T13:32:25.750653Z",
     "shell.execute_reply.started": "2021-05-04T13:32:24.626717Z"
    },
    "tags": []
   },
   "outputs": [],
   "source": [
    "# check that our `flip` method leads to fair outcomes\n",
    "observations = [c1.toss() for _ in range(100_000)]\n",
    "results = pd.Series(observations).value_counts(normalize=True)\n",
    "assert np.allclose(results[\"T\"], results[\"H\"], rtol=0.05)"
   ]
  },
  {
   "cell_type": "code",
   "execution_count": 6,
   "id": "chubby-jaguar",
   "metadata": {
    "execution": {
     "iopub.execute_input": "2021-05-04T13:32:25.752896Z",
     "iopub.status.busy": "2021-05-04T13:32:25.752671Z",
     "iopub.status.idle": "2021-05-04T13:32:25.756975Z",
     "shell.execute_reply": "2021-05-04T13:32:25.756035Z",
     "shell.execute_reply.started": "2021-05-04T13:32:25.752866Z"
    },
    "tags": []
   },
   "outputs": [],
   "source": [
    "def generate_bag_of_coins():\n",
    "    # Let us create a bag with 9 fair coins and 1 fake\n",
    "    bag = [Coin(is_fair=True) for _ in range(9)]\n",
    "    bag.append(Coin(is_fair=False))\n",
    "\n",
    "    # now shuffle the coins, so we don't know which one if fake\n",
    "    np.random.shuffle(bag)\n",
    "\n",
    "    # enumerate our bag\n",
    "    bag = {i: c for i, c in enumerate(bag)}\n",
    "\n",
    "    return bag"
   ]
  },
  {
   "cell_type": "code",
   "execution_count": 7,
   "id": "exceptional-ethernet",
   "metadata": {
    "execution": {
     "iopub.execute_input": "2021-05-04T13:32:25.759927Z",
     "iopub.status.busy": "2021-05-04T13:32:25.759635Z",
     "iopub.status.idle": "2021-05-04T13:32:25.774991Z",
     "shell.execute_reply": "2021-05-04T13:32:25.773291Z",
     "shell.execute_reply.started": "2021-05-04T13:32:25.759900Z"
    },
    "tags": []
   },
   "outputs": [],
   "source": [
    "# verify that we have 9 fair and 1 fake\n",
    "# pd.value_counts([c.is_fair for c in bag])"
   ]
  },
  {
   "cell_type": "code",
   "execution_count": 8,
   "id": "proper-behalf",
   "metadata": {
    "execution": {
     "iopub.execute_input": "2021-05-04T13:32:25.776379Z",
     "iopub.status.busy": "2021-05-04T13:32:25.776131Z",
     "iopub.status.idle": "2021-05-04T13:32:25.797634Z",
     "shell.execute_reply": "2021-05-04T13:32:25.796440Z",
     "shell.execute_reply.started": "2021-05-04T13:32:25.776346Z"
    },
    "tags": []
   },
   "outputs": [],
   "source": [
    "from typing import Dict"
   ]
  },
  {
   "cell_type": "code",
   "execution_count": 9,
   "id": "thermal-uzbekistan",
   "metadata": {
    "execution": {
     "iopub.execute_input": "2021-05-04T13:32:25.799882Z",
     "iopub.status.busy": "2021-05-04T13:32:25.799394Z",
     "iopub.status.idle": "2021-05-04T13:32:25.817410Z",
     "shell.execute_reply": "2021-05-04T13:32:25.815995Z",
     "shell.execute_reply.started": "2021-05-04T13:32:25.799849Z"
    },
    "tags": []
   },
   "outputs": [],
   "source": [
    "def make_a_guess(bag: Dict[int, Coin], verbose=False):\n",
    "    from collections import defaultdict\n",
    "\n",
    "    observations = defaultdict(list)\n",
    "    COIN_TOSSES = 10\n",
    "\n",
    "    current_coin_index = 0\n",
    "    if verbose:\n",
    "        print(0, bag[0])\n",
    "    while COIN_TOSSES:\n",
    "        coin = bag[current_coin_index]\n",
    "        result = coin.toss()\n",
    "        observations[current_coin_index].append(result)\n",
    "        COIN_TOSSES -= 1\n",
    "\n",
    "        if verbose:\n",
    "            print(\"Tossing...\", result)\n",
    "        if result == \"T\":\n",
    "            bag.pop(current_coin_index)\n",
    "\n",
    "            current_coin_index += 1\n",
    "            if verbose:\n",
    "                print(current_coin_index, bag[current_coin_index])\n",
    "\n",
    "    # if we've tossed a coin that never showed us tails, make that our guess.\n",
    "    guess = None\n",
    "\n",
    "    for coin_index, toss_results in observations.items():\n",
    "        if set(toss_results) == {\"H\"}:\n",
    "            return coin_index\n",
    "\n",
    "    # Otherwise, guess at random from all the untested coins\n",
    "    return np.random.choice(list(bag.keys()))"
   ]
  },
  {
   "cell_type": "code",
   "execution_count": null,
   "id": "recognized-jaguar",
   "metadata": {
    "tags": []
   },
   "outputs": [],
   "source": []
  },
  {
   "cell_type": "markdown",
   "id": "alike-opening",
   "metadata": {
    "execution": {
     "iopub.execute_input": "2021-05-04T13:28:23.480227Z",
     "iopub.status.busy": "2021-05-04T13:28:23.479975Z",
     "iopub.status.idle": "2021-05-04T13:28:23.486091Z",
     "shell.execute_reply": "2021-05-04T13:28:23.485132Z",
     "shell.execute_reply.started": "2021-05-04T13:28:23.480204Z"
    },
    "tags": []
   },
   "source": [
    "# Now let's run our experiment 10 000 times and see how often we guess correctly:"
   ]
  },
  {
   "cell_type": "code",
   "execution_count": 10,
   "id": "ahead-substance",
   "metadata": {
    "execution": {
     "iopub.execute_input": "2021-05-04T13:32:25.818735Z",
     "iopub.status.busy": "2021-05-04T13:32:25.818464Z",
     "iopub.status.idle": "2021-05-04T13:32:25.830951Z",
     "shell.execute_reply": "2021-05-04T13:32:25.828600Z",
     "shell.execute_reply.started": "2021-05-04T13:32:25.818713Z"
    },
    "tags": []
   },
   "outputs": [],
   "source": [
    "def run_experiment(verbose=False):\n",
    "    bag = generate_bag_of_coins()\n",
    "    guess = make_a_guess(bag, verbose=verbose)\n",
    "    return bag[guess].is_fake"
   ]
  },
  {
   "cell_type": "code",
   "execution_count": 13,
   "id": "invalid-sequence",
   "metadata": {
    "execution": {
     "iopub.execute_input": "2021-05-04T13:32:42.363124Z",
     "iopub.status.busy": "2021-05-04T13:32:42.362860Z",
     "iopub.status.idle": "2021-05-04T13:32:44.966840Z",
     "shell.execute_reply": "2021-05-04T13:32:44.966107Z",
     "shell.execute_reply.started": "2021-05-04T13:32:42.363092Z"
    },
    "tags": []
   },
   "outputs": [
    {
     "data": {
      "application/vnd.jupyter.widget-view+json": {
       "model_id": "8c0caf01f9834c4695075ae93bea7c11",
       "version_major": 2,
       "version_minor": 0
      },
      "text/plain": [
       "  0%|          | 0/10000 [00:00<?, ?it/s]"
      ]
     },
     "metadata": {},
     "output_type": "display_data"
    },
    {
     "data": {
      "text/html": [
       "<div>\n",
       "<style scoped>\n",
       "    .dataframe tbody tr th:only-of-type {\n",
       "        vertical-align: middle;\n",
       "    }\n",
       "\n",
       "    .dataframe tbody tr th {\n",
       "        vertical-align: top;\n",
       "    }\n",
       "\n",
       "    .dataframe thead th {\n",
       "        text-align: right;\n",
       "    }\n",
       "</style>\n",
       "<table border=\"1\" class=\"dataframe\">\n",
       "  <thead>\n",
       "    <tr style=\"text-align: right;\">\n",
       "      <th></th>\n",
       "      <th>0</th>\n",
       "    </tr>\n",
       "  </thead>\n",
       "  <tbody>\n",
       "    <tr>\n",
       "      <th>True</th>\n",
       "      <td>0.6036</td>\n",
       "    </tr>\n",
       "    <tr>\n",
       "      <th>False</th>\n",
       "      <td>0.3964</td>\n",
       "    </tr>\n",
       "  </tbody>\n",
       "</table>\n",
       "</div>"
      ],
      "text/plain": [
       "            0\n",
       "True   0.6036\n",
       "False  0.3964"
      ]
     },
     "execution_count": 13,
     "metadata": {},
     "output_type": "execute_result"
    }
   ],
   "source": [
    "from tqdm.notebook import trange\n",
    "\n",
    "experiments = pd.Series([run_experiment() for _ in trange(10_000)])\n",
    "experiments.value_counts(normalize=True).to_frame()"
   ]
  },
  {
   "cell_type": "markdown",
   "id": "foster-battery",
   "metadata": {},
   "source": [
    "Huzzaa! The algo gets it right about **60%** of the time, which is 2x improvement on original conditions"
   ]
  },
  {
   "cell_type": "code",
   "execution_count": null,
   "id": "nominated-drink",
   "metadata": {},
   "outputs": [],
   "source": []
  }
 ],
 "metadata": {
  "kernelspec": {
   "display_name": "py38",
   "language": "python",
   "name": "py38"
  },
  "language_info": {
   "codemirror_mode": {
    "name": "ipython",
    "version": 3
   },
   "file_extension": ".py",
   "mimetype": "text/x-python",
   "name": "python",
   "nbconvert_exporter": "python",
   "pygments_lexer": "ipython3",
   "version": "3.9.4"
  }
 },
 "nbformat": 4,
 "nbformat_minor": 5
}
