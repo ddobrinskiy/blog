{
 "cells": [
  {
   "cell_type": "raw",
   "metadata": {},
   "source": [
    "---\n",
    "aliases:\n",
    "- /leetcode/2021/03/16/Leetcode-Algorythms\n",
    "author: David Dobrinskiy\n",
    "badges: true\n",
    "categories:\n",
    "- leetcode\n",
    "date: '2021-03-16'\n",
    "description: Working on mock algos from  https://leetcode.com/problemset/algorithms/.\n",
    "image: images/LeetCode_logo_black.png\n",
    "output-file: 2021-03-16-leetcode-algorythms.html\n",
    "title: Let's crunch some Leet\n",
    "toc: true\n",
    "\n",
    "---\n",
    "\n"
   ]
  },
  {
   "cell_type": "markdown",
   "id": "northern-treat",
   "metadata": {},
   "source": [
    "## longest-substring-without-repeating-characters\n",
    "https://leetcode.com/problems/longest-substring-without-repeating-characters/"
   ]
  },
  {
   "cell_type": "code",
   "execution_count": null,
   "id": "second-liverpool",
   "metadata": {},
   "outputs": [],
   "source": [
    "def test(input_, want):\n",
    "    got = Solution().foo(input_)\n",
    "\n",
    "    if got != want:\n",
    "        msg = f\"got='{got}', want='{want}'\"\n",
    "        raise AssertionError(msg)"
   ]
  },
  {
   "cell_type": "code",
   "execution_count": null,
   "id": "electronic-administrator",
   "metadata": {},
   "outputs": [],
   "source": [
    "class Solution:\n",
    "    def foo(self, s: str) -> int:\n",
    "        max_len = 0\n",
    "        for idx_start in range(len(s)):\n",
    "            sub = set()\n",
    "            for i in range(idx_start, len(s)):\n",
    "                #                 print(idx_start, i, s[i], sub)\n",
    "                if s[i] in sub:\n",
    "                    #                     print(len(sub))\n",
    "                    max_len = max(max_len, len(sub))\n",
    "                    break\n",
    "                else:\n",
    "                    sub |= set(s[i])\n",
    "            max_len = max(max_len, len(sub))\n",
    "\n",
    "        return max_len"
   ]
  },
  {
   "cell_type": "code",
   "execution_count": null,
   "id": "objective-month",
   "metadata": {},
   "outputs": [],
   "source": [
    "test(\"pwwkew\", 3)\n",
    "test(\" \", 1)\n",
    "test(\"wwww\", 1)\n",
    "test(\"abcabcbb\", 3)\n",
    "test(\"\", 0)\n",
    "test(\"abcdexfbdgcbb\", 7)"
   ]
  },
  {
   "cell_type": "code",
   "execution_count": null,
   "id": "brown-compiler",
   "metadata": {},
   "outputs": [],
   "source": [
    "# one-pass sliding window\n",
    "class Solution:\n",
    "    def foo(self, s: str) -> int:\n",
    "        n = len(s)\n",
    "        ans = 0\n",
    "\n",
    "        mp = {}  # store max index\n",
    "        i = 0\n",
    "        for j in range(n):\n",
    "            if s[j] in mp:\n",
    "                i = max(mp[s[j]], i)\n",
    "\n",
    "            ans = max(ans, j - i + 1)\n",
    "            mp[s[j]] = j + 1\n",
    "\n",
    "        return ans\n",
    "\n",
    "\n",
    "# Time complexity : O(n). Index j will iterate n times.\n",
    "# Memory: O(min(m, n)) We need O(k) space for the sliding window, where kk is the size of the Set. The size of the Set is upper bounded by the size of the string nn and the size of the charset/alphabet mm."
   ]
  },
  {
   "cell_type": "code",
   "execution_count": null,
   "id": "attached-police",
   "metadata": {},
   "outputs": [],
   "source": [
    "test(\"abcdexfbdgcbb\", 7)\n",
    "test(\"pwwkew\", 3)\n",
    "test(\" \", 1)\n",
    "test(\"wwww\", 1)\n",
    "test(\"abcabcbb\", 3)\n",
    "test(\"\", 0)"
   ]
  },
  {
   "cell_type": "markdown",
   "id": "comparative-detective",
   "metadata": {},
   "source": [
    "## 7. Reverse Integer\n",
    "\n",
    "Given a signed 32-bit integer x, return x with its digits reversed. If reversing x causes the value to go outside the signed 32-bit integer range $[-2^{31}, 2^{31} - 1]$, then return 0.\n",
    "\n",
    "**Assume the environment does not allow you to store 64-bit integers (signed or unsigned).**\n",
    "\n"
   ]
  },
  {
   "cell_type": "code",
   "execution_count": null,
   "id": "special-honey",
   "metadata": {},
   "outputs": [],
   "source": [
    "class Solution:\n",
    "    def foo(self, x: int) -> int:\n",
    "        MAX_INT = (2**31) - 1\n",
    "\n",
    "        if x >= 0:\n",
    "            sign = 1\n",
    "        else:\n",
    "            sign = -1\n",
    "        nums = list()\n",
    "\n",
    "        x = abs(x)\n",
    "        while True:\n",
    "            nums.append(x % 10)\n",
    "            x = x // 10\n",
    "            if x == 0:\n",
    "                #                 print(nums)\n",
    "                break\n",
    "\n",
    "        dec = 1\n",
    "        ans = 0\n",
    "        for n in nums[::-1]:\n",
    "            # since we use 32bit, we should return 0 if (ans+tail) > MAX_INT\n",
    "            # if we rearrange parts of the eqation, we can avoid overflowing while\n",
    "            # still checking  (ans+tail) for overflow\n",
    "            if (ans / MAX_INT + n * (dec / MAX_INT)) > 1:\n",
    "                return 0\n",
    "\n",
    "            ans += n * dec\n",
    "            dec *= 10\n",
    "        return ans * sign"
   ]
  },
  {
   "cell_type": "code",
   "execution_count": null,
   "id": "primary-coverage",
   "metadata": {},
   "outputs": [],
   "source": [
    "class Solution:\n",
    "    def foo(self, x: int) -> int:\n",
    "        MAX_INT = (2**31) - 1\n",
    "\n",
    "        if x >= 0:\n",
    "            sign = 1\n",
    "        else:\n",
    "            sign = -1\n",
    "        nums = list()\n",
    "\n",
    "        x = abs(x)\n",
    "        while True:\n",
    "            nums.append(x % 10)\n",
    "            x = x // 10\n",
    "            if x == 0:\n",
    "                print(nums)\n",
    "                break\n",
    "\n",
    "        dec = 1\n",
    "        ans = 0\n",
    "        for n in nums[::-1]:\n",
    "            # since we use 32bit, we should return 0 if (ans+tail) > MAX_INT\n",
    "            # if we rearrange parts of the eqation, we can avoid overflowing while\n",
    "            # still checking  (ans+tail) for overflow\n",
    "            if (ans / MAX_INT + n * (dec / MAX_INT)) > 1:\n",
    "                return 0\n",
    "\n",
    "            ans += n * dec\n",
    "            dec *= 10\n",
    "        return ans * sign"
   ]
  },
  {
   "cell_type": "code",
   "execution_count": null,
   "id": "patent-outdoors",
   "metadata": {},
   "outputs": [],
   "source": [
    "test(1534236469, 0)\n",
    "test(123, 321)\n",
    "test(-123, -321)\n",
    "test(0, 0)\n",
    "test(120, 21)"
   ]
  },
  {
   "cell_type": "code",
   "execution_count": null,
   "id": "expired-maria",
   "metadata": {},
   "outputs": [],
   "source": [
    "2**32 - 1"
   ]
  },
  {
   "cell_type": "code",
   "execution_count": null,
   "id": "cellular-oxide",
   "metadata": {},
   "outputs": [],
   "source": [
    "2147483651 >= 2**31"
   ]
  },
  {
   "cell_type": "code",
   "execution_count": null,
   "id": "funded-reliance",
   "metadata": {},
   "outputs": [],
   "source": [
    "x = 321\n",
    "x = 120\n",
    "x = -321"
   ]
  },
  {
   "cell_type": "code",
   "execution_count": null,
   "id": "previous-shirt",
   "metadata": {},
   "outputs": [],
   "source": []
  },
  {
   "cell_type": "markdown",
   "id": "stylish-polymer",
   "metadata": {},
   "source": [
    "## 5. Longest Palindromic Substring\n"
   ]
  },
  {
   "cell_type": "code",
   "execution_count": null,
   "id": "superior-sewing",
   "metadata": {},
   "outputs": [],
   "source": [
    "# quadratic solution (too slow)\n",
    "class Solution:\n",
    "    def foo(self, s):\n",
    "        n = len(s)\n",
    "\n",
    "        while n:\n",
    "            for i in range(len(s) - n + 1):\n",
    "                candidate = s[i : i + n]\n",
    "                #                 print(n,i,candidate)\n",
    "                if self.is_palindrome(candidate):\n",
    "                    return candidate\n",
    "            n -= 1\n",
    "\n",
    "        return \"\"\n",
    "\n",
    "    def is_palindrome(self, x: str) -> bool:\n",
    "        n = len(x)\n",
    "        for i in range(n // 2):\n",
    "            if x[i] != x[n - i - 1]:\n",
    "                return False\n",
    "        return True"
   ]
  },
  {
   "cell_type": "code",
   "execution_count": null,
   "id": "passive-favor",
   "metadata": {},
   "outputs": [],
   "source": [
    "class Solution:\n",
    "    def foo(self, s: str) -> str:\n",
    "        m = \"\"  # Memory to remember a palindrome\n",
    "        for i in range(len(s)):  # i = start, O = n\n",
    "            for j in range(len(s), i, -1):  # j = end, O = n^2\n",
    "                if len(m) >= j - i:  # To reduce time\n",
    "                    break\n",
    "                elif s[i:j] == s[i:j][::-1]:\n",
    "                    m = s[i:j]\n",
    "                    break\n",
    "        return m"
   ]
  },
  {
   "cell_type": "code",
   "execution_count": null,
   "id": "worldwide-conjunction",
   "metadata": {},
   "outputs": [],
   "source": [
    "class Solution:\n",
    "    def foo(self, s: str) -> str:\n",
    "        m = \"\"  # Memory to remember a palindrome\n",
    "        for i in range(len(s)):  # i = start, O = n\n",
    "            for j in range(len(s), i, -1):  # j = end, O = n^2\n",
    "                if len(m) >= j - i:  # To reduce time\n",
    "                    break\n",
    "                elif s[i:j] == s[i:j][::-1]:\n",
    "                    m = s[i:j]\n",
    "                    break\n",
    "        return m"
   ]
  },
  {
   "cell_type": "code",
   "execution_count": null,
   "id": "romantic-operation",
   "metadata": {},
   "outputs": [],
   "source": [
    "list(range(5, 2, -1))"
   ]
  },
  {
   "cell_type": "code",
   "execution_count": null,
   "id": "focal-batman",
   "metadata": {},
   "outputs": [],
   "source": [
    "test(\"babad\", \"bab\")\n",
    "\n",
    "test(\"cbbd\", \"bb\")\n",
    "\n",
    "test(\"a\", \"a\")\n",
    "\n",
    "test(\"\", \"\")"
   ]
  },
  {
   "cell_type": "code",
   "execution_count": null,
   "id": "incident-harassment",
   "metadata": {},
   "outputs": [],
   "source": []
  },
  {
   "cell_type": "code",
   "execution_count": null,
   "id": "blind-recommendation",
   "metadata": {},
   "outputs": [],
   "source": [
    "def generate(cur, open, closed, n):\n",
    "    if len(cur) == 2 * n:\n",
    "        if open == closed:\n",
    "            print(cur)\n",
    "        return\n",
    "\n",
    "    generate(cur + \"(\", open + 1, closed, n)\n",
    "\n",
    "    if open > closed:\n",
    "        generate(cur + \")\", open, closed + 1, n)"
   ]
  },
  {
   "cell_type": "code",
   "execution_count": null,
   "id": "official-correlation",
   "metadata": {},
   "outputs": [],
   "source": [
    "generate(\"\", 0, 0, 1)"
   ]
  },
  {
   "cell_type": "code",
   "execution_count": null,
   "id": "alleged-blend",
   "metadata": {},
   "outputs": [],
   "source": [
    "generate(\"\", 0, 0, 2)"
   ]
  },
  {
   "cell_type": "code",
   "execution_count": null,
   "id": "artificial-cable",
   "metadata": {},
   "outputs": [],
   "source": [
    "generate(\"\", 0, 0, 3)"
   ]
  },
  {
   "cell_type": "markdown",
   "id": "comfortable-arbitration",
   "metadata": {},
   "source": [
    "## 21. Merge Two Sorted Lists\n",
    "\n",
    "    Runtime: 40 ms, faster than 49.45% of Python3 online submissions for Merge Two Sorted Lists.\n",
    "    Memory Usage: 14.3 MB, less than 33.73% of Python3 online submissions for Merge Two Sorted Lists.\n"
   ]
  },
  {
   "cell_type": "code",
   "execution_count": null,
   "id": "objective-magnet",
   "metadata": {},
   "outputs": [],
   "source": [
    "# Definition for singly-linked list.\n",
    "class ListNode:\n",
    "    def __init__(self, val=0, next=None):\n",
    "        self.val = val\n",
    "        self.next = next\n",
    "\n",
    "    def __repr__(self):\n",
    "        return f\"{self.val} -> {self.next}\"\n",
    "\n",
    "\n",
    "class Solution:\n",
    "    def _merge(self, l1, l2):\n",
    "        l1 = self.list_to_ListNode(l1)\n",
    "        l2 = self.list_to_ListNode(l2)\n",
    "\n",
    "        return self.mergeTwoLists(l1, l2)\n",
    "\n",
    "    def list_to_ListNode(self, lst):\n",
    "        lst = iter(lst)\n",
    "        root = ListNode(val=next(lst))\n",
    "        node = root\n",
    "        for newval in lst:\n",
    "            node.next = ListNode(val=newval)\n",
    "            node = node.next\n",
    "        return root\n",
    "\n",
    "    def mergeTwoLists(self, l1: ListNode, l2: ListNode) -> ListNode:\n",
    "        # DON'T FORGET TO DROP FIRST NODE\n",
    "        answer_root = ListNode(val=None)\n",
    "        answer = answer_root\n",
    "\n",
    "        while True:\n",
    "            if (l1 is None) and (l2 is not None):\n",
    "                answer.next = ListNode(l2.val)\n",
    "                l2 = l2.next\n",
    "            elif (l1 is not None) and (l2 is None):\n",
    "                answer.next = ListNode(l1.val)\n",
    "                l1 = l1.next\n",
    "            elif (l1 is None) and (l2 is None):\n",
    "                return answer_root.next  # remember to drop fake zero-node\n",
    "            #     print(answer_root.next)\n",
    "            elif l1.val <= l2.val:\n",
    "                answer.next = ListNode(l1.val)\n",
    "                l1 = l1.next\n",
    "            elif l1.val > l2.val:\n",
    "                answer.next = ListNode(l2.val)\n",
    "                l2 = l2.next\n",
    "            else:\n",
    "                raise Exception\n",
    "\n",
    "            answer = answer.next"
   ]
  },
  {
   "cell_type": "code",
   "execution_count": null,
   "id": "promotional-turtle",
   "metadata": {},
   "outputs": [],
   "source": [
    "convert = Solution().list_to_ListNode"
   ]
  },
  {
   "cell_type": "code",
   "execution_count": null,
   "id": "valuable-veteran",
   "metadata": {},
   "outputs": [],
   "source": [
    "l1 = [1, 2, 4, 5]\n",
    "l2 = [2, 3, 4]\n",
    "\n",
    "# print(Solution().list_to_ListNode(l1))\n",
    "# print(Solution().list_to_ListNode(l2))\n",
    "\n",
    "l1, l2 = convert(l1), convert(l2)\n",
    "print(l1)\n",
    "print(l2)"
   ]
  },
  {
   "cell_type": "code",
   "execution_count": null,
   "id": "suitable-compound",
   "metadata": {},
   "outputs": [],
   "source": [
    "# DON'T FORGET TO DROP FIRST NODE\n",
    "answer_root = ListNode(val=None)\n",
    "\n",
    "answer = answer_root\n",
    "\n",
    "if (l1 is None) and (l2 is not None):\n",
    "    answer.next = ListNode(l2.val)\n",
    "    l2 = l2.next\n",
    "elif (l1 is not None) and (l2 is None):\n",
    "    answer.next = ListNode(l1.val)\n",
    "    l1 = l1.next\n",
    "elif (l1 is None) and (l2 is None):\n",
    "    return answer_root.next  # remember to drop fake zero-node\n",
    "#     print(answer_root.next)\n",
    "elif l1.val <= l2.val:\n",
    "    answer.next = ListNode(l1.val)\n",
    "    l1 = l1.next\n",
    "elif l1.val > l2.val:\n",
    "    answer.next = ListNode(l2.val)\n",
    "    l2 = l2.next\n",
    "else:\n",
    "    raise Exception\n",
    "\n",
    "answer = answer.next\n",
    "\n",
    "print(answer_root)\n",
    "print(\"l1:\", l1)\n",
    "print(\"l2:\", l2)"
   ]
  },
  {
   "cell_type": "markdown",
   "id": "fabulous-marshall",
   "metadata": {},
   "source": [
    "## 4. Median of Two Sorted Arrays\n"
   ]
  },
  {
   "cell_type": "markdown",
   "id": "biological-bookmark",
   "metadata": {},
   "source": [
    "```\n",
    "Success \n",
    "\n",
    "Runtime: 104 ms, faster than 28.31% of Python3 online submissions for Median of Two Sorted Arrays.\n",
    "Memory Usage: 14.6 MB, less than 58.71% of Python3 online submissions for Median of Two Sorted Arrays.\n",
    "```\n",
    "\n",
    "median if n is is_odd = $X_{i}$, `i = n//2 + 1`\n",
    "median if n is even =  $\\frac{X_i+X_j}{2}$, `i = n/2, j=n/2+1`"
   ]
  },
  {
   "cell_type": "code",
   "execution_count": 41,
   "id": "parliamentary-desperate",
   "metadata": {
    "execution": {
     "iopub.execute_input": "2021-03-23T17:28:55.134574Z",
     "iopub.status.busy": "2021-03-23T17:28:55.134482Z",
     "iopub.status.idle": "2021-03-23T17:28:55.145749Z",
     "shell.execute_reply": "2021-03-23T17:28:55.145582Z",
     "shell.execute_reply.started": "2021-03-23T17:28:55.134546Z"
    }
   },
   "outputs": [],
   "source": [
    "def next_or_none(itr):\n",
    "    try:\n",
    "        return next(itr)\n",
    "    except StopIteration:\n",
    "        return None\n",
    "\n",
    "\n",
    "class Solution:\n",
    "    def findMedianSortedArrays(self, numsA: List[int], numsB: List[int]) -> float:\n",
    "        n = len(numsA) + len(numsB)\n",
    "\n",
    "        numsA = iter(numsA)\n",
    "        numsB = iter(numsB)\n",
    "\n",
    "        n_is_odd = bool(n % 2)\n",
    "        n_is_even = not n_is_odd\n",
    "\n",
    "        if n_is_odd:\n",
    "            idx_1 = n // 2\n",
    "            idx_2 = None\n",
    "        else:\n",
    "            idx_1 = n / 2 - 1\n",
    "            idx_2 = n / 2\n",
    "\n",
    "        a, b = next_or_none(numsA), next_or_none(numsB)\n",
    "\n",
    "        current_idx = -1\n",
    "        current_value = None\n",
    "\n",
    "        # while True:\n",
    "        for _ in range(n):\n",
    "            current_idx += 1\n",
    "            prev_value = current_value\n",
    "\n",
    "            if (a is None) and (b is not None):\n",
    "                current_value = b\n",
    "                b = next_or_none(numsB)\n",
    "            elif (a is not None) and (b is None):\n",
    "                current_value = a\n",
    "                a = next_or_none(numsA)\n",
    "            elif a <= b:\n",
    "                current_value = a\n",
    "                a = next_or_none(numsA)\n",
    "            elif a > b:\n",
    "                current_value = b\n",
    "                b = next_or_none(numsB)\n",
    "\n",
    "            if (current_idx == idx_1) and n_is_odd:\n",
    "                return current_value\n",
    "\n",
    "            if (current_idx == idx_2) and n_is_even:\n",
    "                return (prev_value + current_value) / 2"
   ]
  },
  {
   "cell_type": "code",
   "execution_count": null,
   "id": "improving-despite",
   "metadata": {},
   "outputs": [],
   "source": []
  },
  {
   "cell_type": "markdown",
   "id": "unique-server",
   "metadata": {},
   "source": [
    "## 6. ZigZag Conversion\n"
   ]
  },
  {
   "cell_type": "code",
   "execution_count": 50,
   "id": "absent-apache",
   "metadata": {
    "execution": {
     "iopub.execute_input": "2021-03-23T17:44:09.844128Z",
     "iopub.status.busy": "2021-03-23T17:44:09.844046Z",
     "iopub.status.idle": "2021-03-23T17:44:09.850181Z",
     "shell.execute_reply": "2021-03-23T17:44:09.850085Z",
     "shell.execute_reply.started": "2021-03-23T17:44:09.844102Z"
    }
   },
   "outputs": [
    {
     "data": {
      "text/plain": [
       "[['-', '-', '-', '-', '-', '-', '-'],\n",
       " ['-', '-', '-', '-', '-', '-', '-'],\n",
       " ['-', '-', '-', '-', '-', '-', '-']]"
      ]
     },
     "execution_count": 50,
     "metadata": {},
     "output_type": "execute_result"
    }
   ],
   "source": [
    "matrix = [[\"-\"] * 7] * 3\n",
    "\n",
    "matrix"
   ]
  },
  {
   "cell_type": "code",
   "execution_count": 60,
   "id": "charged-engineering",
   "metadata": {
    "execution": {
     "iopub.execute_input": "2021-03-23T17:48:28.484267Z",
     "iopub.status.busy": "2021-03-23T17:48:28.484167Z",
     "iopub.status.idle": "2021-03-23T17:48:28.490768Z",
     "shell.execute_reply": "2021-03-23T17:48:28.490695Z",
     "shell.execute_reply.started": "2021-03-23T17:48:28.484243Z"
    }
   },
   "outputs": [
    {
     "data": {
      "text/plain": [
       "[0, 0] -> x"
      ]
     },
     "execution_count": 60,
     "metadata": {},
     "output_type": "execute_result"
    }
   ],
   "source": [
    "class Point:\n",
    "    def __init__(self):\n",
    "        self.x = 0\n",
    "        self.y = 0\n",
    "\n",
    "    def write(self, char):\n",
    "        matrix[self.y][self.x] = char\n",
    "\n",
    "    def __repr__(self):\n",
    "        char = matrix[self.y][self.x]\n",
    "        return f\"{[self.x, self.y]} -> {char}\"\n",
    "\n",
    "\n",
    "p = Point()\n",
    "p.write(\"x\")\n",
    "p"
   ]
  },
  {
   "cell_type": "code",
   "execution_count": 61,
   "id": "coordinated-arizona",
   "metadata": {
    "execution": {
     "iopub.execute_input": "2021-03-23T17:48:31.461093Z",
     "iopub.status.busy": "2021-03-23T17:48:31.461007Z",
     "iopub.status.idle": "2021-03-23T17:48:31.464885Z",
     "shell.execute_reply": "2021-03-23T17:48:31.464798Z",
     "shell.execute_reply.started": "2021-03-23T17:48:31.461064Z"
    }
   },
   "outputs": [
    {
     "data": {
      "text/plain": [
       "[['x', '-', '-', '-', '-', '-', '-'],\n",
       " ['x', '-', '-', '-', '-', '-', '-'],\n",
       " ['x', '-', '-', '-', '-', '-', '-']]"
      ]
     },
     "execution_count": 61,
     "metadata": {},
     "output_type": "execute_result"
    }
   ],
   "source": [
    "matrix"
   ]
  },
  {
   "cell_type": "code",
   "execution_count": 54,
   "id": "incorporated-cabinet",
   "metadata": {
    "execution": {
     "iopub.execute_input": "2021-03-23T17:44:41.612183Z",
     "iopub.status.busy": "2021-03-23T17:44:41.612101Z",
     "iopub.status.idle": "2021-03-23T17:44:41.614506Z",
     "shell.execute_reply": "2021-03-23T17:44:41.614382Z",
     "shell.execute_reply.started": "2021-03-23T17:44:41.612158Z"
    }
   },
   "outputs": [],
   "source": [
    "import numpy as np"
   ]
  },
  {
   "cell_type": "code",
   "execution_count": null,
   "id": "elect-environment",
   "metadata": {},
   "outputs": [],
   "source": [
    "numpy"
   ]
  },
  {
   "cell_type": "code",
   "execution_count": null,
   "id": "internal-lyric",
   "metadata": {},
   "outputs": [],
   "source": [
    "matrix[]"
   ]
  },
  {
   "cell_type": "code",
   "execution_count": 51,
   "id": "tracked-december",
   "metadata": {
    "execution": {
     "iopub.execute_input": "2021-03-23T17:44:10.359804Z",
     "iopub.status.busy": "2021-03-23T17:44:10.359722Z",
     "iopub.status.idle": "2021-03-23T17:44:10.362269Z",
     "shell.execute_reply": "2021-03-23T17:44:10.362165Z",
     "shell.execute_reply.started": "2021-03-23T17:44:10.359778Z"
    }
   },
   "outputs": [
    {
     "name": "stdout",
     "output_type": "stream",
     "text": [
      "-------\n",
      "-------\n",
      "-------\n"
     ]
    }
   ],
   "source": [
    "print(\"\\n\".join([\"\".join(row) for row in matrix]))"
   ]
  },
  {
   "cell_type": "code",
   "execution_count": null,
   "id": "coordinated-parish",
   "metadata": {},
   "outputs": [],
   "source": []
  }
 ],
 "metadata": {
  "kernelspec": {
   "display_name": "py38",
   "language": "python",
   "name": "py38"
  },
  "language_info": {
   "codemirror_mode": {
    "name": "ipython",
    "version": 3
   },
   "file_extension": ".py",
   "mimetype": "text/x-python",
   "name": "python",
   "nbconvert_exporter": "python",
   "pygments_lexer": "ipython3",
   "version": "3.8.5"
  }
 },
 "nbformat": 4,
 "nbformat_minor": 5
}
