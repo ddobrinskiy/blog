{
 "cells": [
  {
   "cell_type": "raw",
   "metadata": {},
   "source": [
    "---\n",
    "aliases:\n",
    "- /2021/2021-01-01-advent-of-code.html\n",
    "date: '2021-01-01'\n",
    "output-file: 2021-01-01-advent-of-code.html\n",
    "title: Advent Of Code\n",
    "\n",
    "---\n",
    "\n"
   ]
  },
  {
   "cell_type": "markdown",
   "metadata": {},
   "source": [
    "## Day 1"
   ]
  },
  {
   "cell_type": "markdown",
   "metadata": {},
   "source": [
    "### Part 1"
   ]
  },
  {
   "cell_type": "code",
   "execution_count": null,
   "metadata": {},
   "outputs": [],
   "source": [
    "import pandas as pd"
   ]
  },
  {
   "cell_type": "code",
   "execution_count": null,
   "metadata": {},
   "outputs": [],
   "source": [
    "import requests as r"
   ]
  },
  {
   "cell_type": "code",
   "execution_count": null,
   "metadata": {},
   "outputs": [],
   "source": [
    "nums = (\n",
    "    r.get(\"https://filebin.net/qjkb2njdu0gl7kxz/input.txt?t=kjulapu7\")\n",
    "    .text.strip()\n",
    "    .split(\"\\n\")\n",
    ")\n",
    "nums = sorted(map(int, nums))\n",
    "nums[:10] + [\"-----\"] + nums[-10:]"
   ]
  },
  {
   "cell_type": "code",
   "execution_count": null,
   "metadata": {},
   "outputs": [],
   "source": [
    "def main_two():\n",
    "    n = len(nums)\n",
    "    for i in range(n):\n",
    "        for j in range(i + 1, n):\n",
    "            a, b = nums[i], nums[n - j]\n",
    "            #             print(a,b, a+b)\n",
    "            if a + b < 2020:\n",
    "                break  # break J\n",
    "            if a + b == 2020:\n",
    "                return a * b\n",
    "\n",
    "\n",
    "main_two()"
   ]
  },
  {
   "cell_type": "code",
   "execution_count": null,
   "metadata": {},
   "outputs": [],
   "source": [
    "def main_three():\n",
    "    n = len(nums)\n",
    "    for i in range(n):\n",
    "        for j in range(i + 1, n):\n",
    "            for k in range(n):\n",
    "                a = nums[i]\n",
    "                b = nums[n - j]\n",
    "\n",
    "                # iterate from middle(n//2) to +1, -1, +2, -2, and so on\n",
    "                idx_middle = n // 2 + (-1) ** k * k // 2\n",
    "                c = nums[idx_middle]\n",
    "\n",
    "                if a + b + c == 2020:\n",
    "                    return a * b * c\n",
    "\n",
    "\n",
    "main_three()"
   ]
  },
  {
   "cell_type": "markdown",
   "metadata": {
    "execution": {
     "iopub.execute_input": "2020-12-16T12:22:51.289009Z",
     "iopub.status.busy": "2020-12-16T12:22:51.288167Z",
     "iopub.status.idle": "2020-12-16T12:22:51.499588Z",
     "shell.execute_reply": "2020-12-16T12:22:51.497394Z",
     "shell.execute_reply.started": "2020-12-16T12:22:51.288919Z"
    }
   },
   "source": [
    "## Day 2"
   ]
  },
  {
   "cell_type": "code",
   "execution_count": null,
   "metadata": {},
   "outputs": [],
   "source": [
    "# part 1\n",
    "def valid_pass(line):\n",
    "    line = line.strip()\n",
    "    if line == \"\":\n",
    "        return False\n",
    "    MIN, MAX, s, pwd = re.split(\"-| |: \", line)\n",
    "    MIN, MAX = int(MIN), int(MAX)\n",
    "    return MIN <= pwd.count(s) <= MAX\n",
    "\n",
    "\n",
    "import re\n",
    "\n",
    "with open(\"data/advent_of_code/2020/day2.txt\") as f:\n",
    "    line = f.readline()\n",
    "    cnt = int(valid_pass(line))\n",
    "    while line:\n",
    "        line = f.readline()\n",
    "        cnt += valid_pass(line)\n",
    "cnt"
   ]
  },
  {
   "cell_type": "code",
   "execution_count": null,
   "metadata": {},
   "outputs": [],
   "source": [
    "# part 2\n",
    "def valid_pass(line):\n",
    "    line = line.strip()\n",
    "    if line == \"\":\n",
    "        return False\n",
    "    i, j, s, pwd = re.split(\"-| |: \", line)\n",
    "    i, j = int(i), int(j)\n",
    "    return (pwd[i - 1] == s) ^ (pwd[j - 1] == s)\n",
    "\n",
    "\n",
    "import re\n",
    "\n",
    "with open(\"data/advent_of_code/2020/day2.txt\") as f:\n",
    "    line = f.readline()\n",
    "    cnt = int(valid_pass(line))\n",
    "    while line:\n",
    "        line = f.readline()\n",
    "        cnt += valid_pass(line)\n",
    "cnt"
   ]
  },
  {
   "cell_type": "markdown",
   "metadata": {},
   "source": [
    "## Day 3"
   ]
  },
  {
   "cell_type": "code",
   "execution_count": null,
   "metadata": {},
   "outputs": [],
   "source": [
    "import numpy as np"
   ]
  },
  {
   "cell_type": "code",
   "execution_count": null,
   "metadata": {},
   "outputs": [],
   "source": [
    "s = \"\"\"..##.......\n",
    "#...#...#..\n",
    ".#....#..#.\n",
    "..#.#...#.#\n",
    ".#...##..#.\n",
    "..#.##.....\n",
    ".#.#.#....#\n",
    ".#........#\n",
    "#.##...#...\n",
    "#...##....#\n",
    ".#..#...#.#\"\"\""
   ]
  },
  {
   "cell_type": "code",
   "execution_count": null,
   "metadata": {},
   "outputs": [],
   "source": [
    "lst = [[int(c) for c in row] for row in s.replace(\".\", \"0\").replace(\"#\", \"1\").split()]\n",
    "sarr = np.array(lst)\n",
    "sarr"
   ]
  },
  {
   "cell_type": "code",
   "execution_count": null,
   "metadata": {},
   "outputs": [],
   "source": [
    "n_steps = len(sarr) - 1\n",
    "n_steps"
   ]
  },
  {
   "cell_type": "code",
   "execution_count": null,
   "metadata": {},
   "outputs": [],
   "source": [
    "full_map = np.hstack([sarr] * n_steps)\n",
    "full_map.shape"
   ]
  },
  {
   "cell_type": "code",
   "execution_count": null,
   "metadata": {},
   "outputs": [],
   "source": [
    "full_map[:11, :11]"
   ]
  },
  {
   "cell_type": "code",
   "execution_count": null,
   "metadata": {},
   "outputs": [],
   "source": [
    "delta_y = 1\n",
    "delta_x = 3"
   ]
  },
  {
   "cell_type": "code",
   "execution_count": null,
   "metadata": {},
   "outputs": [],
   "source": [
    "coord_x = coord_y = 0"
   ]
  },
  {
   "cell_type": "code",
   "execution_count": null,
   "metadata": {},
   "outputs": [],
   "source": [
    "def make_step(delta_x, delta_y):\n",
    "    global coord_x\n",
    "    global coord_y\n",
    "\n",
    "    coord_x += delta_x\n",
    "    coord_y += delta_y"
   ]
  },
  {
   "cell_type": "code",
   "execution_count": null,
   "metadata": {},
   "outputs": [],
   "source": [
    "full_map"
   ]
  },
  {
   "cell_type": "code",
   "execution_count": null,
   "metadata": {},
   "outputs": [],
   "source": [
    "num_trees = 0\n",
    "for i in range(n_steps):\n",
    "    make_step(delta_x, delta_y)\n",
    "    num_trees += full_map[coord_y, coord_x]\n",
    "    if full_map[coord_y, coord_x]:\n",
    "        print(f\"Tree encountered at step {i}. coords_xy = {coord_x, coord_y}\")\n",
    "    full_map[coord_y, coord_x] = 4\n",
    "\n",
    "print(f\"Num Trees = {num_trees}\")"
   ]
  },
  {
   "cell_type": "markdown",
   "metadata": {},
   "source": [
    "### Part 1"
   ]
  },
  {
   "cell_type": "code",
   "execution_count": null,
   "metadata": {},
   "outputs": [],
   "source": [
    "import numpy as np\n",
    "\n",
    "with open(\"data/advent_of_code/2020/day3.txt\") as f:\n",
    "    s = f.read()\n",
    "\n",
    "lst = [[int(c) for c in row] for row in s.replace(\".\", \"0\").replace(\"#\", \"1\").split()]\n",
    "sarr = np.array(lst)\n",
    "full_map = np.hstack([sarr] * len(sarr))\n",
    "\n",
    "\n",
    "class Plane:\n",
    "    def __init__(self, delta_x, delta_y):\n",
    "        self.coord_x = 0\n",
    "        self.coord_y = 0\n",
    "        self.delta_x = delta_x\n",
    "        self.delta_y = delta_y\n",
    "\n",
    "    def step(self):\n",
    "        self.coord_x += self.delta_x\n",
    "        self.coord_y += self.delta_y\n",
    "\n",
    "\n",
    "def calc_for_slope(delta_x, delta_y):\n",
    "    p = Plane(delta_x, delta_y)\n",
    "    num_trees = 0\n",
    "\n",
    "    while p.coord_y < len(sarr) - delta_y:\n",
    "        p.step()\n",
    "        num_trees += full_map[p.coord_y, p.coord_x]\n",
    "        if p.coord_y >= len(sarr) - delta_y:\n",
    "            print(\"wow\")\n",
    "\n",
    "    print(f\"Num Trees = {num_trees} for slope right={delta_x}, down={delta_y}\")\n",
    "    return num_trees\n",
    "\n",
    "\n",
    "calc_for_slope(3, 1)"
   ]
  },
  {
   "cell_type": "markdown",
   "metadata": {
    "execution": {
     "iopub.execute_input": "2020-12-17T10:54:51.299830Z",
     "iopub.status.busy": "2020-12-17T10:54:51.299613Z",
     "iopub.status.idle": "2020-12-17T10:54:51.303652Z",
     "shell.execute_reply": "2020-12-17T10:54:51.303086Z",
     "shell.execute_reply.started": "2020-12-17T10:54:51.299807Z"
    }
   },
   "source": [
    "### Part 2"
   ]
  },
  {
   "cell_type": "code",
   "execution_count": null,
   "metadata": {},
   "outputs": [],
   "source": [
    "slopes = [\n",
    "    (3, 1),\n",
    "    (1, 2),\n",
    "    (1, 1),\n",
    "    (5, 1),\n",
    "    (7, 1),\n",
    "]\n",
    "\n",
    "results = {slope: calc_for_slope(*slope) for slope in slopes}\n",
    "\n",
    "ans = 1\n",
    "for k, v in results.items():\n",
    "    ans *= v\n",
    "ans"
   ]
  },
  {
   "cell_type": "markdown",
   "metadata": {},
   "source": [
    "## Day 4"
   ]
  },
  {
   "cell_type": "code",
   "execution_count": null,
   "metadata": {},
   "outputs": [],
   "source": [
    "batch = \"\"\"ecl:gry pid:860033327 eyr:2020 hcl:#fffffd\n",
    "byr:1937 iyr:2017 cid:147 hgt:183cm\n",
    "\n",
    "iyr:2013 ecl:amb cid:350 eyr:2023 pid:028048884\n",
    "hcl:#cfa07d byr:1929\n",
    "\n",
    "hcl:#ae17e1 iyr:2013\n",
    "eyr:2024\n",
    "ecl:brn pid:760753108 byr:1931\n",
    "hgt:179cm\n",
    "\n",
    "hcl:#cfa07d eyr:2025 pid:166559648\n",
    "iyr:2011 ecl:brn hgt:59in\"\"\""
   ]
  },
  {
   "cell_type": "code",
   "execution_count": null,
   "metadata": {},
   "outputs": [],
   "source": [
    "import re"
   ]
  },
  {
   "cell_type": "code",
   "execution_count": null,
   "metadata": {},
   "outputs": [],
   "source": [
    "passports = batch.split(\"\\n\\n\")\n",
    "p = passports[0]"
   ]
  },
  {
   "cell_type": "code",
   "execution_count": null,
   "metadata": {},
   "outputs": [],
   "source": [
    "necessary_keys = \"byr iyr eyr hgt hcl ecl pid\".split(\" \")\n",
    "necessary_keys"
   ]
  },
  {
   "cell_type": "code",
   "execution_count": null,
   "metadata": {},
   "outputs": [],
   "source": [
    "with open(\"data/advent_of_code/2020/day4.txt\") as f:\n",
    "    batch = f.read()"
   ]
  },
  {
   "cell_type": "code",
   "execution_count": null,
   "metadata": {},
   "outputs": [],
   "source": [
    "n_valid = 0\n",
    "\n",
    "for p in batch.split(\"\\n\\n\"):\n",
    "    p_elems = [elem for elem in re.split(\" |\\n\", p.strip())]\n",
    "    for e in p_elems:\n",
    "        if e == \"\":\n",
    "            print(\"wow\")\n",
    "            pass\n",
    "\n",
    "    dpass = dict()\n",
    "\n",
    "    for kv in [e.split(\":\") for e in p_elems]:\n",
    "        k, v = kv\n",
    "        dpass[k] = v\n",
    "    #     print(dpass)\n",
    "\n",
    "    missing_keys = []\n",
    "    for k in necessary_keys:\n",
    "        if k not in dpass:\n",
    "            missing_keys.append(k)\n",
    "\n",
    "    if len(missing_keys):\n",
    "        print(f\"invalid, keys missing: {missing_keys}\")\n",
    "        pass\n",
    "    else:\n",
    "        #         print(f\"valid\")\n",
    "        n_valid += 1\n",
    "\n",
    "n_valid"
   ]
  },
  {
   "cell_type": "code",
   "execution_count": null,
   "metadata": {},
   "outputs": [],
   "source": []
  },
  {
   "cell_type": "code",
   "execution_count": null,
   "metadata": {},
   "outputs": [],
   "source": [
    "def validate_pass(dpass):\n",
    "\n",
    "    # step 1: all keys are present\n",
    "    missing_keys = []\n",
    "    for k in necessary_keys:\n",
    "        if k not in dpass:\n",
    "            return False\n",
    "\n",
    "    # byr\n",
    "    byr = dpass[\"byr\"]\n",
    "    if len(byr) != 4:\n",
    "        return False\n",
    "\n",
    "    byr = int(byr)\n",
    "    if byr < 1920 or byr > 2002:\n",
    "        return False\n",
    "\n",
    "    # iyr\n",
    "    iyr = dpass[\"iyr\"]\n",
    "    if len(iyr) != 4:\n",
    "        return False\n",
    "    iyr = int(iyr)\n",
    "    if iyr < 2010 or iyr > 2020:\n",
    "        return False\n",
    "    # eyr\n",
    "\n",
    "    eyr = dpass[\"eyr\"]\n",
    "    if len(eyr) != 4:\n",
    "        return False\n",
    "    eyr = int(eyr)\n",
    "    if eyr < 2020 or eyr > 2030:\n",
    "        return False\n",
    "\n",
    "    # hgt\n",
    "    hgt = dpass[\"hgt\"]\n",
    "    if hgt[-2:] not in [\"cm\", \"in\"]:\n",
    "        return False\n",
    "\n",
    "    n, unit = int(hgt[:-2]), hgt[-2:]\n",
    "    if unit == \"cm\":\n",
    "        if n < 150 or n > 193:\n",
    "            return False\n",
    "    elif unit == \"in\":\n",
    "        if n < 59 or n > 76:\n",
    "            return False\n",
    "    else:\n",
    "        raise ValueError()\n",
    "\n",
    "    # hcl\n",
    "    hcl = dpass[\"hcl\"]\n",
    "    pat = \"#[0-9a-f]{6}\"\n",
    "    if re.fullmatch(pat, hcl) is None:\n",
    "        return False\n",
    "\n",
    "    # ecl\n",
    "    ecl = dpass[\"ecl\"]\n",
    "    if ecl not in [\"amb\", \"blu\", \"brn\", \"gry\", \"grn\", \"hzl\", \"oth\"]:\n",
    "        return False\n",
    "\n",
    "    # pid\n",
    "    pid = dpass[\"pid\"]\n",
    "    pat = \"\\d{9}\"\n",
    "    if re.fullmatch(pat, pid) is None:\n",
    "        return False\n",
    "\n",
    "    return True\n",
    "\n",
    "\n",
    "validate_pass(\n",
    "    {\n",
    "        \"hgt\": \"176cm\",\n",
    "        \"iyr\": \"2013\",\n",
    "        \"hcl\": \"#fffffd\",\n",
    "        \"ecl\": \"amb\",\n",
    "        \"byr\": \"2000\",\n",
    "        \"eyr\": \"2030\",\n",
    "        \"cid\": \"89\",\n",
    "        \"pid\": \"934693255\",\n",
    "    }\n",
    ")"
   ]
  },
  {
   "cell_type": "code",
   "execution_count": null,
   "metadata": {},
   "outputs": [],
   "source": [
    "batch = \"\"\"eyr:1972 cid:100\n",
    "hcl:#18171d ecl:amb hgt:170 pid:186cm iyr:2018 byr:1926\n",
    "\n",
    "iyr:2019\n",
    "hcl:#602927 eyr:1967 hgt:170cm\n",
    "ecl:grn pid:012533040 byr:1946\n",
    "\n",
    "hcl:dab227 iyr:2012\n",
    "ecl:brn hgt:182cm pid:021572410 eyr:2020 byr:1992 cid:277\n",
    "\n",
    "hgt:59cm ecl:zzz\n",
    "eyr:2038 hcl:74454a iyr:2023\n",
    "pid:3556412378 byr:2007\"\"\"\n",
    "n_valid = 0\n",
    "\n",
    "for p in batch.split(\"\\n\\n\"):\n",
    "    # build dict\n",
    "    p_elems = [elem for elem in re.split(\" |\\n\", p.strip())]\n",
    "    dpass = dict()\n",
    "    for kv in [e.split(\":\") for e in p_elems]:\n",
    "        k, v = kv\n",
    "        dpass[k] = v\n",
    "\n",
    "    # validate\n",
    "    n_valid += validate_pass(dpass)\n",
    "\n",
    "n_valid"
   ]
  },
  {
   "cell_type": "code",
   "execution_count": null,
   "metadata": {},
   "outputs": [],
   "source": [
    "batch = \"\"\"pid:087499704 hgt:74in ecl:grn iyr:2012 eyr:2030 byr:1980\n",
    "hcl:#623a2f\n",
    "\n",
    "eyr:2029 ecl:blu cid:129 byr:1989\n",
    "iyr:2014 pid:896056539 hcl:#a97842 hgt:165cm\n",
    "\n",
    "hcl:#888785\n",
    "hgt:164cm byr:2001 iyr:2015 cid:88\n",
    "pid:545766238 ecl:hzl\n",
    "eyr:2022\n",
    "\n",
    "iyr:2010 hgt:158cm hcl:#b6652a ecl:blu byr:1944 eyr:2021 pid:093154719\"\"\"\n",
    "n_valid = 0\n",
    "\n",
    "for p in batch.split(\"\\n\\n\"):\n",
    "    # build dict\n",
    "    p_elems = [elem for elem in re.split(\" |\\n\", p.strip())]\n",
    "    dpass = dict()\n",
    "    for kv in [e.split(\":\") for e in p_elems]:\n",
    "        k, v = kv\n",
    "        dpass[k] = v\n",
    "\n",
    "    # validate\n",
    "    n_valid += validate_pass(dpass)\n",
    "\n",
    "n_valid"
   ]
  },
  {
   "cell_type": "code",
   "execution_count": null,
   "metadata": {},
   "outputs": [],
   "source": [
    "with open(\"data/advent_of_code/2020/day4.txt\") as f:\n",
    "    batch = f.read()\n",
    "\n",
    "n_valid = 0\n",
    "\n",
    "for p in batch.split(\"\\n\\n\"):\n",
    "    # build dict\n",
    "    p_elems = [elem for elem in re.split(\" |\\n\", p.strip())]\n",
    "    dpass = dict()\n",
    "    for kv in [e.split(\":\") for e in p_elems]:\n",
    "        k, v = kv\n",
    "        dpass[k] = v\n",
    "\n",
    "    # validate\n",
    "    n_valid += validate_pass(dpass)\n",
    "\n",
    "n_valid"
   ]
  },
  {
   "cell_type": "markdown",
   "metadata": {},
   "source": [
    "## Day 5"
   ]
  },
  {
   "cell_type": "code",
   "execution_count": null,
   "metadata": {},
   "outputs": [],
   "source": []
  },
  {
   "cell_type": "code",
   "execution_count": null,
   "metadata": {},
   "outputs": [],
   "source": []
  },
  {
   "cell_type": "code",
   "execution_count": null,
   "metadata": {},
   "outputs": [],
   "source": [
    "def search(arr, op, vrb=False):\n",
    "    n = len(arr)\n",
    "    if op == \"lower\":\n",
    "        return arr[: n // 2]\n",
    "    elif op == \"upper\":\n",
    "        return arr[n // 2 :]"
   ]
  },
  {
   "cell_type": "code",
   "execution_count": null,
   "metadata": {},
   "outputs": [],
   "source": [
    "def locate_row(seq):\n",
    "    assert len(seq) == 7, f\"Len = {len(seq)}, expected 7\"\n",
    "    rows = list(range(128))\n",
    "\n",
    "    mapper = {\"F\": \"lower\", \"B\": \"upper\"}\n",
    "\n",
    "    for op in seq:\n",
    "        rows = search_rows(rows, mapper[op])\n",
    "\n",
    "    assert len(rows) == 1\n",
    "\n",
    "    return rows[0]"
   ]
  },
  {
   "cell_type": "code",
   "execution_count": null,
   "metadata": {},
   "outputs": [],
   "source": [
    "locate_row(\"FBFBBFF\")"
   ]
  },
  {
   "cell_type": "code",
   "execution_count": null,
   "metadata": {},
   "outputs": [],
   "source": [
    "def locate_col(seq):\n",
    "    assert len(seq) == 3, f\"Len = {len(seq)}, expected 3\"\n",
    "    cols = list(range(8))\n",
    "\n",
    "    mapper = {\"L\": \"lower\", \"R\": \"upper\"}\n",
    "\n",
    "    for op in seq:\n",
    "        cols = search_rows(cols, mapper[op])\n",
    "\n",
    "    assert len(rows) == 1\n",
    "\n",
    "    return cols[0]"
   ]
  },
  {
   "cell_type": "code",
   "execution_count": null,
   "metadata": {},
   "outputs": [],
   "source": [
    "locate_col(\"RLR\")"
   ]
  },
  {
   "cell_type": "code",
   "execution_count": null,
   "metadata": {},
   "outputs": [],
   "source": [
    "def decode(seq):\n",
    "    row = locate_row(seq[:7])\n",
    "    col = locate_col(seq[7:])\n",
    "    return {\"row\": row, \"col\": col, \"sid\": row * 8 + col, \"code\": seq}"
   ]
  },
  {
   "cell_type": "code",
   "execution_count": null,
   "metadata": {},
   "outputs": [],
   "source": [
    "decode(\"FBFBBFFRLR\")"
   ]
  },
  {
   "cell_type": "code",
   "execution_count": null,
   "metadata": {},
   "outputs": [],
   "source": [
    "decode(\"BFFFBBFRRR\")"
   ]
  },
  {
   "cell_type": "code",
   "execution_count": null,
   "metadata": {},
   "outputs": [],
   "source": [
    "decode(\"FFFBBBFRRR\")"
   ]
  },
  {
   "cell_type": "code",
   "execution_count": null,
   "metadata": {},
   "outputs": [],
   "source": [
    "decode(\"BBFFBBFRLL\")"
   ]
  },
  {
   "cell_type": "code",
   "execution_count": null,
   "metadata": {},
   "outputs": [],
   "source": [
    "with open(\"data/advent_of_code/2020/day5.txt\") as f:\n",
    "    codes = f.read().strip().split(\"\\n\")\n",
    "\n",
    "myTicket = sorted([decode(c) for c in codes], key=lambda x: x[\"sid\"], reverse=True)[0]\n",
    "myTicket"
   ]
  },
  {
   "cell_type": "code",
   "execution_count": null,
   "metadata": {},
   "outputs": [],
   "source": [
    "seat_ids = [decode(s)[\"sid\"] for s in codes]\n",
    "lo = min(seat_ids)\n",
    "hi = max(seat_ids)\n",
    "print([x for x in range(lo, hi) if x not in seat_ids])  # find empty seat"
   ]
  },
  {
   "cell_type": "markdown",
   "metadata": {},
   "source": [
    "## Day 6"
   ]
  },
  {
   "cell_type": "code",
   "execution_count": null,
   "metadata": {},
   "outputs": [],
   "source": [
    "s = \"\"\"abc\n",
    "\n",
    "a\n",
    "b\n",
    "c\n",
    "\n",
    "ab\n",
    "ac\n",
    "\n",
    "a\n",
    "a\n",
    "a\n",
    "a\n",
    "\n",
    "b\n",
    "\"\"\""
   ]
  },
  {
   "cell_type": "code",
   "execution_count": null,
   "metadata": {},
   "outputs": [],
   "source": [
    "sum([len(set(group.replace(\"\\n\", \"\"))) for group in s.split(\"\\n\\n\")])"
   ]
  },
  {
   "cell_type": "code",
   "execution_count": null,
   "metadata": {},
   "outputs": [],
   "source": [
    "[group.split(\"\\n\") for group in s.strip().split(\"\\n\\n\")]"
   ]
  },
  {
   "cell_type": "code",
   "execution_count": null,
   "metadata": {},
   "outputs": [],
   "source": [
    "def common_chars_in_group(people):\n",
    "    common = set(people[0])\n",
    "    for person in people:\n",
    "        common &= set(person)\n",
    "    return common"
   ]
  },
  {
   "cell_type": "code",
   "execution_count": null,
   "metadata": {},
   "outputs": [],
   "source": []
  },
  {
   "cell_type": "code",
   "execution_count": null,
   "metadata": {},
   "outputs": [],
   "source": [
    "groups = [group.split(\"\\n\") for group in s.strip().split(\"\\n\\n\")]\n",
    "commons = [common_chars_in_group(g) for g in groups]\n",
    "commons"
   ]
  },
  {
   "cell_type": "code",
   "execution_count": null,
   "metadata": {},
   "outputs": [],
   "source": [
    "sum([len(c) for c in commons])"
   ]
  },
  {
   "cell_type": "code",
   "execution_count": null,
   "metadata": {},
   "outputs": [],
   "source": []
  },
  {
   "cell_type": "code",
   "execution_count": null,
   "metadata": {},
   "outputs": [],
   "source": [
    "with open(\"data/advent_of_code/2020/day6.txt\") as f:\n",
    "    s = f.read()"
   ]
  },
  {
   "cell_type": "code",
   "execution_count": null,
   "metadata": {},
   "outputs": [],
   "source": [
    "sum([len(set(group.replace(\"\\n\", \"\"))) for group in s.split(\"\\n\\n\")])"
   ]
  },
  {
   "cell_type": "code",
   "execution_count": null,
   "metadata": {},
   "outputs": [],
   "source": [
    "groups = [group.split(\"\\n\") for group in s.strip().split(\"\\n\\n\")]\n",
    "commons = [common_chars_in_group(g) for g in groups]\n",
    "sum([len(c) for c in commons])"
   ]
  },
  {
   "cell_type": "markdown",
   "metadata": {},
   "source": [
    "## Day 7"
   ]
  },
  {
   "cell_type": "code",
   "execution_count": 1,
   "metadata": {
    "execution": {
     "iopub.execute_input": "2020-12-18T14:25:38.568457Z",
     "iopub.status.busy": "2020-12-18T14:25:38.567307Z",
     "iopub.status.idle": "2020-12-18T14:25:38.578104Z",
     "shell.execute_reply": "2020-12-18T14:25:38.576553Z",
     "shell.execute_reply.started": "2020-12-18T14:25:38.568183Z"
    }
   },
   "outputs": [],
   "source": [
    "import re"
   ]
  },
  {
   "cell_type": "code",
   "execution_count": 2,
   "metadata": {
    "execution": {
     "iopub.execute_input": "2020-12-18T14:25:39.336678Z",
     "iopub.status.busy": "2020-12-18T14:25:39.335573Z",
     "iopub.status.idle": "2020-12-18T14:25:39.346442Z",
     "shell.execute_reply": "2020-12-18T14:25:39.344879Z",
     "shell.execute_reply.started": "2020-12-18T14:25:39.336548Z"
    }
   },
   "outputs": [],
   "source": [
    "s_rules = \"\"\"light red bags contain 1 bright white bag, 2 muted yellow bags.\n",
    "dark orange bags contain 3 bright white bags, 4 muted yellow bags.\n",
    "bright white bags contain 1 shiny gold bag.\n",
    "muted yellow bags contain 2 shiny gold bags, 9 faded blue bags.\n",
    "shiny gold bags contain 1 dark olive bag, 2 vibrant plum bags.\n",
    "dark olive bags contain 3 faded blue bags, 4 dotted black bags.\n",
    "vibrant plum bags contain 5 faded blue bags, 6 dotted black bags.\n",
    "faded blue bags contain no other bags.\n",
    "dotted black bags contain no other bags.\n",
    "\"\"\""
   ]
  },
  {
   "cell_type": "code",
   "execution_count": 16,
   "metadata": {
    "execution": {
     "iopub.execute_input": "2020-12-18T14:26:33.171193Z",
     "iopub.status.busy": "2020-12-18T14:26:33.170934Z",
     "iopub.status.idle": "2020-12-18T14:26:33.175262Z",
     "shell.execute_reply": "2020-12-18T14:26:33.174649Z",
     "shell.execute_reply.started": "2020-12-18T14:26:33.171164Z"
    }
   },
   "outputs": [],
   "source": [
    "with open(\"data/advent_of_code/2020/day7.txt\") as f:\n",
    "    s_rules = f.read()"
   ]
  },
  {
   "cell_type": "code",
   "execution_count": 17,
   "metadata": {
    "execution": {
     "iopub.execute_input": "2020-12-18T14:26:33.451940Z",
     "iopub.status.busy": "2020-12-18T14:26:33.451646Z",
     "iopub.status.idle": "2020-12-18T14:26:33.458006Z",
     "shell.execute_reply": "2020-12-18T14:26:33.457165Z",
     "shell.execute_reply.started": "2020-12-18T14:26:33.451914Z"
    }
   },
   "outputs": [
    {
     "data": {
      "text/plain": [
       "['bright green bags contain 4 drab green bags, 3 drab indigo bags, 5 dull blue bags',\n",
       " 'posh violet bags contain 5 wavy white bags',\n",
       " 'clear brown bags contain no other bags']"
      ]
     },
     "execution_count": 17,
     "metadata": {},
     "output_type": "execute_result"
    }
   ],
   "source": [
    "lines = [l for l in re.split(\"\\.|\\n\", s_rules.strip()) if l != \"\"]\n",
    "lines[-3:]"
   ]
  },
  {
   "cell_type": "code",
   "execution_count": 18,
   "metadata": {
    "execution": {
     "iopub.execute_input": "2020-12-18T14:26:33.952681Z",
     "iopub.status.busy": "2020-12-18T14:26:33.951621Z",
     "iopub.status.idle": "2020-12-18T14:26:33.972445Z",
     "shell.execute_reply": "2020-12-18T14:26:33.971742Z",
     "shell.execute_reply.started": "2020-12-18T14:26:33.952553Z"
    }
   },
   "outputs": [],
   "source": [
    "graph = {}\n",
    "lines = [l for l in re.split(\"\\.|\\n\", s_rules.strip()) if l != \"\"]\n",
    "for line in lines:\n",
    "    line = line.strip(\"\\n.\")\n",
    "    logics = re.split(\"bags|bag|,|contain\", line)\n",
    "    logics = [x.strip() for x in logics if x.strip() != \"\"]\n",
    "\n",
    "    target = logics[0]\n",
    "    can_contain = logics[1:]\n",
    "    target, can_contain\n",
    "\n",
    "    graph[target] = dict()\n",
    "    for rule in can_contain:\n",
    "        if rule == \"no other\":\n",
    "            break\n",
    "        else:\n",
    "            nbr = int(rule[0])\n",
    "            color = rule[2:]\n",
    "            graph[target][color] = nbr"
   ]
  },
  {
   "cell_type": "code",
   "execution_count": 19,
   "metadata": {
    "execution": {
     "iopub.execute_input": "2020-12-18T14:26:34.514569Z",
     "iopub.status.busy": "2020-12-18T14:26:34.514072Z",
     "iopub.status.idle": "2020-12-18T14:26:34.521434Z",
     "shell.execute_reply": "2020-12-18T14:26:34.520263Z",
     "shell.execute_reply.started": "2020-12-18T14:26:34.514514Z"
    }
   },
   "outputs": [
    {
     "data": {
      "text/plain": [
       "{'clear brown': 5, 'plaid fuchsia': 5, 'bright teal': 4, 'striped white': 1}"
      ]
     },
     "execution_count": 19,
     "metadata": {},
     "output_type": "execute_result"
    }
   ],
   "source": [
    "graph[\"shiny gold\"]  # can contain"
   ]
  },
  {
   "cell_type": "code",
   "execution_count": 20,
   "metadata": {
    "execution": {
     "iopub.execute_input": "2020-12-18T14:26:36.468140Z",
     "iopub.status.busy": "2020-12-18T14:26:36.467901Z",
     "iopub.status.idle": "2020-12-18T14:26:36.474129Z",
     "shell.execute_reply": "2020-12-18T14:26:36.473362Z",
     "shell.execute_reply.started": "2020-12-18T14:26:36.468113Z"
    }
   },
   "outputs": [
    {
     "data": {
      "text/plain": [
       "['shiny orange',\n",
       " 'mirrored crimson',\n",
       " 'drab blue',\n",
       " 'dark aqua',\n",
       " 'mirrored purple']"
      ]
     },
     "execution_count": 20,
     "metadata": {},
     "output_type": "execute_result"
    }
   ],
   "source": [
    "from collections import defaultdict\n",
    "\n",
    "inverted_graph = defaultdict(list)\n",
    "\n",
    "for bag, can_contain in graph.items():\n",
    "    for color in can_contain:\n",
    "        inverted_graph[color].append(bag)\n",
    "\n",
    "inverted_graph[\"shiny gold\"]  # can be stored in"
   ]
  },
  {
   "cell_type": "code",
   "execution_count": 21,
   "metadata": {
    "execution": {
     "iopub.execute_input": "2020-12-18T14:26:37.064799Z",
     "iopub.status.busy": "2020-12-18T14:26:37.064383Z",
     "iopub.status.idle": "2020-12-18T14:26:37.069291Z",
     "shell.execute_reply": "2020-12-18T14:26:37.068240Z",
     "shell.execute_reply.started": "2020-12-18T14:26:37.064753Z"
    }
   },
   "outputs": [],
   "source": [
    "variations = list()"
   ]
  },
  {
   "cell_type": "code",
   "execution_count": 22,
   "metadata": {
    "execution": {
     "iopub.execute_input": "2020-12-18T14:26:37.607969Z",
     "iopub.status.busy": "2020-12-18T14:26:37.607188Z",
     "iopub.status.idle": "2020-12-18T14:26:37.618157Z",
     "shell.execute_reply": "2020-12-18T14:26:37.616959Z",
     "shell.execute_reply.started": "2020-12-18T14:26:37.607877Z"
    }
   },
   "outputs": [],
   "source": [
    "def dfs(color, current_path=\"\"):\n",
    "    if current_path == \"\":\n",
    "        current_path = color\n",
    "    else:\n",
    "        current_path += f\" <- {color}\"\n",
    "\n",
    "    if outer_bags := inverted_graph[color]:\n",
    "        for bag in outer_bags:\n",
    "            dfs(bag, current_path)\n",
    "    else:\n",
    "        variations.append(current_path)\n",
    "\n",
    "\n",
    "dfs(\"shiny gold\")"
   ]
  },
  {
   "cell_type": "code",
   "execution_count": 23,
   "metadata": {
    "execution": {
     "iopub.execute_input": "2020-12-18T14:26:38.499266Z",
     "iopub.status.busy": "2020-12-18T14:26:38.498789Z",
     "iopub.status.idle": "2020-12-18T14:26:38.506153Z",
     "shell.execute_reply": "2020-12-18T14:26:38.505220Z",
     "shell.execute_reply.started": "2020-12-18T14:26:38.499211Z"
    }
   },
   "outputs": [
    {
     "data": {
      "text/plain": [
       "['shiny gold <- shiny orange <- pale aqua <- mirrored gold <- dark maroon',\n",
       " 'shiny gold <- shiny orange <- pale aqua <- mirrored gold <- dotted olive <- bright silver',\n",
       " 'shiny gold <- shiny orange <- pale aqua <- mirrored gold <- faded chartreuse',\n",
       " 'shiny gold <- shiny orange <- pale aqua <- plaid lime',\n",
       " 'shiny gold <- shiny orange <- pale aqua <- dim salmon <- posh lavender',\n",
       " 'shiny gold <- shiny orange <- pale aqua <- dim salmon <- mirrored lavender <- muted violet <- light lime <- light gold <- mirrored red',\n",
       " 'shiny gold <- shiny orange <- pale aqua <- dim salmon <- mirrored lavender <- muted violet <- light lime <- bright gold',\n",
       " 'shiny gold <- shiny orange <- pale aqua <- dim salmon <- mirrored lavender <- muted violet <- light lime <- dull lime <- striped red <- bright silver',\n",
       " 'shiny gold <- shiny orange <- pale aqua <- dim salmon <- mirrored lavender <- muted violet <- light lime <- dull lime <- striped red <- plaid white <- posh coral <- dim aqua',\n",
       " 'shiny gold <- shiny orange <- pale aqua <- dim salmon <- mirrored lavender <- muted violet <- light lime <- dull lime <- drab olive <- dotted salmon <- wavy beige <- striped cyan <- wavy lavender',\n",
       " 'shiny gold <- shiny orange <- pale aqua <- dim salmon <- mirrored lavender <- muted violet <- dotted purple',\n",
       " 'shiny gold <- shiny orange <- pale aqua <- dim salmon <- mirrored lavender <- muted violet <- faded silver',\n",
       " 'shiny gold <- shiny orange <- pale aqua <- dim salmon <- mirrored lavender <- dotted black',\n",
       " 'shiny gold <- shiny orange <- pale aqua <- dim salmon <- mirrored lavender <- plaid yellow',\n",
       " 'shiny gold <- shiny orange <- pale aqua <- faded orange',\n",
       " 'shiny gold <- shiny orange <- pale aqua <- wavy gold <- mirrored purple <- bright lavender <- posh purple <- shiny purple <- faded olive',\n",
       " 'shiny gold <- shiny orange <- pale aqua <- wavy gold <- mirrored purple <- bright lavender <- vibrant lavender <- vibrant orange',\n",
       " 'shiny gold <- shiny orange <- pale aqua <- wavy gold <- mirrored purple <- bright lavender <- vibrant lavender <- plaid teal',\n",
       " 'shiny gold <- shiny orange <- pale aqua <- wavy gold <- mirrored purple <- bright lavender <- dotted olive <- bright silver',\n",
       " 'shiny gold <- shiny orange <- pale aqua <- wavy gold <- mirrored purple <- bright lavender <- dull gray <- muted gray',\n",
       " 'shiny gold <- shiny orange <- plaid gray <- dull salmon',\n",
       " 'shiny gold <- shiny orange <- plaid gray <- light olive <- shiny salmon <- dull green',\n",
       " 'shiny gold <- shiny orange <- plaid gray <- light olive <- pale blue',\n",
       " 'shiny gold <- shiny orange <- plaid gray <- light olive <- vibrant purple',\n",
       " 'shiny gold <- shiny orange <- plaid gray <- light olive <- dark cyan <- faded blue <- plaid magenta',\n",
       " 'shiny gold <- shiny orange <- plaid gray <- muted gray',\n",
       " 'shiny gold <- shiny orange <- plaid gray <- striped aqua',\n",
       " 'shiny gold <- shiny orange <- plaid gray <- dotted lavender <- mirrored white <- drab red',\n",
       " 'shiny gold <- shiny orange <- plaid gray <- dotted lavender <- dotted aqua',\n",
       " 'shiny gold <- shiny orange <- plaid gray <- dotted lavender <- mirrored lime <- dim chartreuse <- mirrored chartreuse',\n",
       " 'shiny gold <- shiny orange <- plaid gray <- dotted lavender <- mirrored lime <- vibrant brown <- clear turquoise <- pale violet',\n",
       " 'shiny gold <- shiny orange <- drab maroon <- shiny cyan <- mirrored yellow',\n",
       " 'shiny gold <- shiny orange <- drab maroon <- dull white <- shiny magenta <- muted salmon',\n",
       " 'shiny gold <- shiny orange <- drab maroon <- dull white <- muted plum <- shiny gray <- mirrored beige',\n",
       " 'shiny gold <- shiny orange <- drab maroon <- dull white <- muted plum <- shiny gray <- plaid tomato',\n",
       " 'shiny gold <- shiny orange <- drab maroon <- dull white <- mirrored lime <- dim chartreuse <- mirrored chartreuse',\n",
       " 'shiny gold <- shiny orange <- drab maroon <- dull white <- mirrored lime <- vibrant brown <- clear turquoise <- pale violet',\n",
       " 'shiny gold <- shiny orange <- drab maroon <- plaid silver <- pale indigo <- shiny beige',\n",
       " 'shiny gold <- shiny orange <- drab maroon <- plaid silver <- pale indigo <- dull plum <- clear gold',\n",
       " 'shiny gold <- shiny orange <- drab maroon <- plaid silver <- pale indigo <- dull plum <- wavy blue <- dotted coral <- dotted magenta',\n",
       " 'shiny gold <- shiny orange <- drab maroon <- plaid silver <- pale indigo <- dull plum <- light turquoise <- dark yellow',\n",
       " 'shiny gold <- shiny orange <- drab maroon <- plaid silver <- pale indigo <- dull plum <- light turquoise <- shiny tomato',\n",
       " 'shiny gold <- shiny orange <- drab maroon <- plaid silver <- pale indigo <- bright turquoise',\n",
       " 'shiny gold <- shiny orange <- drab maroon <- plaid silver <- pale indigo <- dull tomato',\n",
       " 'shiny gold <- shiny orange <- drab maroon <- plaid silver <- pale indigo <- clear green',\n",
       " 'shiny gold <- shiny orange <- drab maroon <- plaid silver <- pale indigo <- muted red <- muted aqua',\n",
       " 'shiny gold <- shiny orange <- drab maroon <- plaid silver <- pale indigo <- muted red <- vibrant purple',\n",
       " 'shiny gold <- shiny orange <- drab maroon <- plaid silver <- pale indigo <- muted red <- dark cyan <- faded blue <- plaid magenta',\n",
       " 'shiny gold <- shiny orange <- drab maroon <- plaid silver <- posh beige <- plaid chartreuse',\n",
       " 'shiny gold <- shiny orange <- drab maroon <- plaid silver <- posh beige <- dotted violet',\n",
       " 'shiny gold <- shiny orange <- drab maroon <- striped lime <- faded magenta <- dotted gray',\n",
       " 'shiny gold <- shiny orange <- drab maroon <- striped lime <- dark brown <- muted coral <- dotted black',\n",
       " 'shiny gold <- shiny orange <- dim gray <- posh green <- vibrant blue',\n",
       " 'shiny gold <- shiny orange <- dim gray <- posh green <- muted salmon',\n",
       " 'shiny gold <- shiny orange <- dim gray <- posh green <- muted orange',\n",
       " 'shiny gold <- shiny orange <- dotted lime <- faded plum <- shiny cyan <- mirrored yellow',\n",
       " 'shiny gold <- mirrored crimson <- faded salmon <- muted lavender',\n",
       " 'shiny gold <- mirrored crimson <- faded salmon <- muted violet <- light lime <- light gold <- mirrored red',\n",
       " 'shiny gold <- mirrored crimson <- faded salmon <- muted violet <- light lime <- bright gold',\n",
       " 'shiny gold <- mirrored crimson <- faded salmon <- muted violet <- light lime <- dull lime <- striped red <- bright silver',\n",
       " 'shiny gold <- mirrored crimson <- faded salmon <- muted violet <- light lime <- dull lime <- striped red <- plaid white <- posh coral <- dim aqua',\n",
       " 'shiny gold <- mirrored crimson <- faded salmon <- muted violet <- light lime <- dull lime <- drab olive <- dotted salmon <- wavy beige <- striped cyan <- wavy lavender',\n",
       " 'shiny gold <- mirrored crimson <- faded salmon <- muted violet <- dotted purple',\n",
       " 'shiny gold <- mirrored crimson <- faded salmon <- muted violet <- faded silver',\n",
       " 'shiny gold <- mirrored crimson <- dull lime <- striped red <- bright silver',\n",
       " 'shiny gold <- mirrored crimson <- dull lime <- striped red <- plaid white <- posh coral <- dim aqua',\n",
       " 'shiny gold <- mirrored crimson <- dull lime <- drab olive <- dotted salmon <- wavy beige <- striped cyan <- wavy lavender',\n",
       " 'shiny gold <- mirrored crimson <- wavy violet <- drab orange <- wavy gray',\n",
       " 'shiny gold <- mirrored crimson <- wavy violet <- dark yellow',\n",
       " 'shiny gold <- mirrored crimson <- wavy violet <- faded olive',\n",
       " 'shiny gold <- mirrored crimson <- faded orange',\n",
       " 'shiny gold <- mirrored crimson <- striped beige <- posh black <- shiny lime',\n",
       " 'shiny gold <- mirrored crimson <- striped beige <- dim tomato',\n",
       " 'shiny gold <- mirrored crimson <- dim beige <- dark silver <- dark blue',\n",
       " 'shiny gold <- mirrored crimson <- dim beige <- clear silver',\n",
       " 'shiny gold <- drab blue <- wavy silver <- shiny aqua',\n",
       " 'shiny gold <- dark aqua',\n",
       " 'shiny gold <- mirrored purple <- bright lavender <- posh purple <- shiny purple <- faded olive',\n",
       " 'shiny gold <- mirrored purple <- bright lavender <- vibrant lavender <- vibrant orange',\n",
       " 'shiny gold <- mirrored purple <- bright lavender <- vibrant lavender <- plaid teal',\n",
       " 'shiny gold <- mirrored purple <- bright lavender <- dotted olive <- bright silver',\n",
       " 'shiny gold <- mirrored purple <- bright lavender <- dull gray <- muted gray']"
      ]
     },
     "execution_count": 23,
     "metadata": {},
     "output_type": "execute_result"
    }
   ],
   "source": [
    "variations"
   ]
  },
  {
   "cell_type": "code",
   "execution_count": 24,
   "metadata": {
    "execution": {
     "iopub.execute_input": "2020-12-18T14:27:09.245448Z",
     "iopub.status.busy": "2020-12-18T14:27:09.244750Z",
     "iopub.status.idle": "2020-12-18T14:27:09.253785Z",
     "shell.execute_reply": "2020-12-18T14:27:09.252632Z",
     "shell.execute_reply.started": "2020-12-18T14:27:09.245364Z"
    }
   },
   "outputs": [
    {
     "data": {
      "text/plain": [
       "82"
      ]
     },
     "execution_count": 24,
     "metadata": {},
     "output_type": "execute_result"
    }
   ],
   "source": [
    "len(set(variations))"
   ]
  },
  {
   "cell_type": "code",
   "execution_count": null,
   "metadata": {},
   "outputs": [],
   "source": []
  },
  {
   "cell_type": "code",
   "execution_count": null,
   "metadata": {},
   "outputs": [],
   "source": []
  },
  {
   "cell_type": "code",
   "execution_count": null,
   "metadata": {},
   "outputs": [],
   "source": []
  },
  {
   "cell_type": "code",
   "execution_count": null,
   "metadata": {},
   "outputs": [],
   "source": []
  },
  {
   "cell_type": "code",
   "execution_count": null,
   "metadata": {},
   "outputs": [],
   "source": []
  },
  {
   "cell_type": "code",
   "execution_count": null,
   "metadata": {},
   "outputs": [],
   "source": []
  },
  {
   "cell_type": "code",
   "execution_count": null,
   "metadata": {},
   "outputs": [],
   "source": []
  },
  {
   "cell_type": "code",
   "execution_count": null,
   "metadata": {},
   "outputs": [],
   "source": []
  },
  {
   "cell_type": "code",
   "execution_count": null,
   "metadata": {},
   "outputs": [],
   "source": []
  },
  {
   "cell_type": "code",
   "execution_count": null,
   "metadata": {},
   "outputs": [],
   "source": []
  },
  {
   "cell_type": "code",
   "execution_count": null,
   "metadata": {},
   "outputs": [],
   "source": []
  },
  {
   "cell_type": "code",
   "execution_count": null,
   "metadata": {},
   "outputs": [],
   "source": []
  },
  {
   "cell_type": "code",
   "execution_count": null,
   "metadata": {},
   "outputs": [],
   "source": []
  },
  {
   "cell_type": "code",
   "execution_count": null,
   "metadata": {},
   "outputs": [],
   "source": []
  }
 ],
 "metadata": {
  "kernelspec": {
   "display_name": "Python 3.11.0 ('py311')",
   "language": "python",
   "name": "python3"
  },
  "language_info": {
   "codemirror_mode": {
    "name": "ipython",
    "version": 3
   },
   "file_extension": ".py",
   "mimetype": "text/x-python",
   "name": "python",
   "nbconvert_exporter": "python",
   "pygments_lexer": "ipython3",
   "version": "3.11.0"
  },
  "toc-autonumbering": true,
  "vscode": {
   "interpreter": {
    "hash": "aabf569e3e906307a343f2c46f71e72d810d9954f55785187e5fe034c418186d"
   }
  }
 },
 "nbformat": 4,
 "nbformat_minor": 4
}
