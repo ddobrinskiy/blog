{
 "cells": [
  {
   "cell_type": "raw",
   "metadata": {},
   "source": [
    "---\n",
    "aliases:\n",
    "- /algorythms/twitter/2021/05/06/Infinite-Pi-Fraction\n",
    "author: David Dobrinskiy\n",
    "badges: true\n",
    "categories:\n",
    "- algorythms\n",
    "- twitter\n",
    "date: '2021-05-06'\n",
    "output-file: 2021-05-06-infinite-pi-fraction.html\n",
    "title: Calculating Pi with fractions\n",
    "toc: false\n",
    "\n",
    "---\n",
    "\n"
   ]
  },
  {
   "cell_type": "markdown",
   "id": "athletic-crowd",
   "metadata": {
    "execution": {
     "iopub.execute_input": "2021-05-06T15:44:22.675256Z",
     "iopub.status.busy": "2021-05-06T15:44:22.674925Z",
     "iopub.status.idle": "2021-05-06T15:44:22.800316Z",
     "shell.execute_reply": "2021-05-06T15:44:22.799485Z",
     "shell.execute_reply.started": "2021-05-06T15:44:22.675183Z"
    }
   },
   "source": [
    "![](./fig1.png)"
   ]
  },
  {
   "cell_type": "markdown",
   "id": "basic-edinburgh",
   "metadata": {},
   "source": [
    "$\\pi = \\frac{4}{1+\\frac{1^2}{2 + recursion(n)}}$"
   ]
  },
  {
   "cell_type": "code",
   "execution_count": 1,
   "id": "capable-course",
   "metadata": {
    "execution": {
     "iopub.execute_input": "2021-05-06T16:22:20.563831Z",
     "iopub.status.busy": "2021-05-06T16:22:20.563621Z",
     "iopub.status.idle": "2021-05-06T16:22:20.712359Z",
     "shell.execute_reply": "2021-05-06T16:22:20.711828Z",
     "shell.execute_reply.started": "2021-05-06T16:22:20.563773Z"
    },
    "tags": []
   },
   "outputs": [],
   "source": [
    "import numpy as np\n",
    "\n",
    "\n",
    "def frac_one(n: int, i: int = 0):\n",
    "    i += 1\n",
    "    n -= 1\n",
    "    nominator = 1 + 2 * i\n",
    "    if n == 0:\n",
    "        return 1\n",
    "    else:\n",
    "        return 2 + (1 + 2 * i) ** 2 / frac_one(n, i)\n",
    "\n",
    "\n",
    "def frac_inf(n: int, i: int = 0):\n",
    "    i += 1\n",
    "    n -= 1\n",
    "    nominator = 1 + 2 * i\n",
    "    if n == 0:\n",
    "        return np.inf\n",
    "    else:\n",
    "        return 2 + (1 + 2 * i) ** 2 / frac_inf(n, i)"
   ]
  },
  {
   "cell_type": "code",
   "execution_count": 2,
   "id": "short-classic",
   "metadata": {
    "execution": {
     "iopub.execute_input": "2021-05-06T16:22:20.713549Z",
     "iopub.status.busy": "2021-05-06T16:22:20.713401Z",
     "iopub.status.idle": "2021-05-06T16:22:20.717901Z",
     "shell.execute_reply": "2021-05-06T16:22:20.716502Z",
     "shell.execute_reply.started": "2021-05-06T16:22:20.713533Z"
    },
    "tags": []
   },
   "outputs": [],
   "source": [
    "def pi_approx(func, n_iters):\n",
    "    return 4 / (1 + 1 / func(n_iters))"
   ]
  },
  {
   "cell_type": "code",
   "execution_count": 3,
   "id": "applicable-study",
   "metadata": {
    "execution": {
     "iopub.execute_input": "2021-05-06T16:22:20.720028Z",
     "iopub.status.busy": "2021-05-06T16:22:20.719718Z",
     "iopub.status.idle": "2021-05-06T16:22:20.725897Z",
     "shell.execute_reply": "2021-05-06T16:22:20.725271Z",
     "shell.execute_reply.started": "2021-05-06T16:22:20.720003Z"
    },
    "tags": []
   },
   "outputs": [],
   "source": [
    "def pi_mixed(n_iters):\n",
    "    a = pi_approx(frac_one, n_iters)\n",
    "    b = pi_approx(frac_inf, n_iters)\n",
    "    return (a + b) / 2"
   ]
  },
  {
   "cell_type": "code",
   "execution_count": null,
   "id": "light-grenada",
   "metadata": {},
   "outputs": [],
   "source": []
  },
  {
   "cell_type": "code",
   "execution_count": 4,
   "id": "affecting-empire",
   "metadata": {
    "execution": {
     "iopub.execute_input": "2021-05-06T16:22:20.726858Z",
     "iopub.status.busy": "2021-05-06T16:22:20.726700Z",
     "iopub.status.idle": "2021-05-06T16:22:20.740306Z",
     "shell.execute_reply": "2021-05-06T16:22:20.739165Z",
     "shell.execute_reply.started": "2021-05-06T16:22:20.726839Z"
    },
    "tags": []
   },
   "outputs": [
    {
     "data": {
      "text/plain": [
       "2940"
      ]
     },
     "execution_count": 4,
     "metadata": {},
     "output_type": "execute_result"
    }
   ],
   "source": [
    "# let's use our laptop's recursion limit to get maximum accuracy\n",
    "import sys\n",
    "\n",
    "max_recursion = int(sys.getrecursionlimit() * 0.98)\n",
    "max_recursion"
   ]
  },
  {
   "cell_type": "code",
   "execution_count": 5,
   "id": "solar-democrat",
   "metadata": {
    "execution": {
     "iopub.execute_input": "2021-05-06T16:22:20.741251Z",
     "iopub.status.busy": "2021-05-06T16:22:20.741068Z",
     "iopub.status.idle": "2021-05-06T16:22:20.750491Z",
     "shell.execute_reply": "2021-05-06T16:22:20.749982Z",
     "shell.execute_reply.started": "2021-05-06T16:22:20.741229Z"
    },
    "tags": []
   },
   "outputs": [
    {
     "data": {
      "text/plain": [
       "3.141932789654053"
      ]
     },
     "execution_count": 5,
     "metadata": {},
     "output_type": "execute_result"
    }
   ],
   "source": [
    "pi_approx(frac_one, max_recursion)"
   ]
  },
  {
   "cell_type": "code",
   "execution_count": 6,
   "id": "requested-restaurant",
   "metadata": {
    "execution": {
     "iopub.execute_input": "2021-05-06T16:22:20.751236Z",
     "iopub.status.busy": "2021-05-06T16:22:20.751108Z",
     "iopub.status.idle": "2021-05-06T16:22:20.761709Z",
     "shell.execute_reply": "2021-05-06T16:22:20.760694Z",
     "shell.execute_reply.started": "2021-05-06T16:22:20.751220Z"
    },
    "tags": []
   },
   "outputs": [
    {
     "data": {
      "text/plain": [
       "3.141252517545209"
      ]
     },
     "execution_count": 6,
     "metadata": {},
     "output_type": "execute_result"
    }
   ],
   "source": [
    "pi_approx(frac_inf, max_recursion)"
   ]
  },
  {
   "cell_type": "code",
   "execution_count": 7,
   "id": "sensitive-monte",
   "metadata": {
    "execution": {
     "iopub.execute_input": "2021-05-06T16:22:20.762607Z",
     "iopub.status.busy": "2021-05-06T16:22:20.762466Z",
     "iopub.status.idle": "2021-05-06T16:22:20.775094Z",
     "shell.execute_reply": "2021-05-06T16:22:20.774545Z",
     "shell.execute_reply.started": "2021-05-06T16:22:20.762589Z"
    },
    "tags": []
   },
   "outputs": [
    {
     "name": "stdout",
     "output_type": "stream",
     "text": [
      "\n",
      "At recursion depth of 2940 the approximation error is:\n",
      " * -0.011% for frac_one\n",
      " * 0.011% for frac_inf\n",
      " * -0.000000000313% for pi_mixed\n",
      "\n"
     ]
    }
   ],
   "source": [
    "print(\n",
    "    f\"\"\"\n",
    "At recursion depth of {max_recursion} the approximation error is:\n",
    " * {(np.pi - pi_approx(frac_one, max_recursion))/np.pi:.3%} for frac_one\n",
    " * {(np.pi - pi_approx(frac_inf, max_recursion))/np.pi:.3%} for frac_inf\n",
    " * {(np.pi - pi_mixed(max_recursion))/np.pi:.12%} for pi_mixed\n",
    "\"\"\"\n",
    ")"
   ]
  },
  {
   "cell_type": "code",
   "execution_count": null,
   "id": "destroyed-sheep",
   "metadata": {},
   "outputs": [],
   "source": []
  }
 ],
 "metadata": {
  "kernelspec": {
   "display_name": "Python 3.11.0 ('py311')",
   "language": "python",
   "name": "python3"
  },
  "language_info": {
   "codemirror_mode": {
    "name": "ipython",
    "version": 3
   },
   "file_extension": ".py",
   "mimetype": "text/x-python",
   "name": "python",
   "nbconvert_exporter": "python",
   "pygments_lexer": "ipython3",
   "version": "3.11.0"
  },
  "vscode": {
   "interpreter": {
    "hash": "aabf569e3e906307a343f2c46f71e72d810d9954f55785187e5fe034c418186d"
   }
  }
 },
 "nbformat": 4,
 "nbformat_minor": 5
}
