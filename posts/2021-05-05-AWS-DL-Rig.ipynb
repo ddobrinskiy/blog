{
 "cells": [
  {
   "cell_type": "raw",
   "metadata": {},
   "source": [
    "---\n",
    "aliases:\n",
    "- /AWS/DL/cloud/2021/05/05/AWS-DL-Rig\n",
    "author: David Dobrinskiy\n",
    "badges: true\n",
    "categories:\n",
    "- DL\n",
    "- AWS\n",
    "- cloud\n",
    "date: '2021-05-05'\n",
    "output-file: 2021-05-05-aws-dl-rig.html\n",
    "title: Setting up your Remote DL Workstation in the cloud\n",
    "toc: true\n",
    "\n",
    "---\n",
    "\n"
   ]
  },
  {
   "cell_type": "markdown",
   "id": "a4aa44bb-7a99-4b2f-8d38-0d102f765cf9",
   "metadata": {},
   "source": [
    "## Choise\n",
    "\n",
    "Let's start with AWS, because it has good pricing and rich CLI\n",
    "\n",
    "https://docs.aws.amazon.com/dlami/latest/devguide/what-is-dlami.html\n",
    "\n",
    "another blog post: https://margaretmz.medium.com/setting-up-aws-ec2-for-running-jupyter-notebook-on-gpu-c281231fad3f"
   ]
  },
  {
   "cell_type": "code",
   "execution_count": null,
   "id": "2c7010c9-39d1-4e8f-a278-88e8554afc14",
   "metadata": {},
   "outputs": [],
   "source": []
  }
 ],
 "metadata": {
  "kernelspec": {
   "display_name": "py38",
   "language": "python",
   "name": "py38"
  },
  "language_info": {
   "codemirror_mode": {
    "name": "ipython",
    "version": 3
   },
   "file_extension": ".py",
   "mimetype": "text/x-python",
   "name": "python",
   "nbconvert_exporter": "python",
   "pygments_lexer": "ipython3",
   "version": "3.9.4"
  }
 },
 "nbformat": 4,
 "nbformat_minor": 5
}
