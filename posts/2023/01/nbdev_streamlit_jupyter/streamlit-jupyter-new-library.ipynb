{
 "cells": [
  {
   "cell_type": "raw",
   "metadata": {},
   "source": [
    "---\n",
    "aliases:\n",
    "- /2023/01/07/streamlit-jupyter-new-library.html\n",
    "\n",
    "author: David Dobrinskiy\n",
    "badges: true\n",
    "categories:\n",
    "- nbdev\n",
    "- streamlit\n",
    "- jupyter\n",
    "\n",
    "date: '2023-01-07'\n",
    "output-file: streamlit-jupyter-new-library.html\n",
    "title: New library streamlit-jupyter, a new way to develop streamlit apps in jupyter notebooks \n",
    "toc: true \n",
    "\n",
    "---\n",
    "\n"
   ]
  },
  {
   "attachments": {},
   "cell_type": "markdown",
   "metadata": {},
   "source": [
    "Hey there, I created a library [streamlit-jupyter](https://github.com/ddobrinskiy/streamlit-jupyter) to allow for seamless creation of streamlit apps in jupyter notebooks.\n",
    "\n",
    "A nifty little alternative to [voila](https://github.com/voila-dashboards/voila), one might say.\n",
    "\n",
    "The way this works is it detects your environment, and if the script is run from a jupyter notebook, then it wraps existing streamlit methods to replace them with ipywidgets alternatives - that way you can code as you would in streamlit, and then displays your page as-you-code.\n",
    "\n",
    "Then you export your notebook to a `.py` file, and run it via streamlit as usual (no change in behaviour there)\n",
    "\n",
    "## Install\n",
    "\n",
    "``` sh\n",
    "pip install streamlit_jupyter\n",
    "```\n",
    "\n",
    "## How to use it\n",
    "\n",
    "Take a look at our [example notebook](https://github.com/ddobrinskiy/streamlit-jupyter/blob/master/examples/99_example.ipynb)\n",
    "\n",
    "The main idea is for you experiment and develop in your notebook,\n",
    "visually see all the pieces, and then convert the notebook to `.py` to\n",
    "be run by streamlit\n",
    "\n",
    "start by importing streamlit and patching it with streamlit-jupyter:\n",
    "\n",
    "``` python\n",
    "\n",
    "import streamlit as st\n",
    "\n",
    "from streamlit_jupyter import StreamlitPatcher, tqdm\n",
    "\n",
    "StreamlitPatcher().jupyter()  # register streamlit with jupyter-compatible wrappers\n",
    "```\n",
    "\n",
    "And now develop your notebook as usual, but with the ability to use\n",
    "Streamlit widgets and components.\n",
    "\n",
    "See how it works below, and check out the [example](https://github.com/ddobrinskiy/streamlit-jupyter/blob/master/examples/99_example.ipynb) (it also incudes a nifty alternative to nbconvert that strips out all the magics and other irrelevant stuff)\n"
   ]
  },
  {
   "attachments": {},
   "cell_type": "markdown",
   "metadata": {},
   "source": [
    "## Demonstration\n",
    "\n",
    "\n",
    "\n",
    "|  | <img src=\"./images/favicon_jupyter.ico\" width=\"30\" /> Jupyter | <img src=\"./images/favicon_streamlit.ico\" height=\"25\" /> Streamlit  |\n",
    "|:----------------------:|:------------------------------:|:---------------------------------:|\n",
    "| Markdown and headings  |![alt](images/img1_jupyter.png) | ![alt](images/img1_streamlit.png) |\n",
    "| Interactive data entry |![alt](images/img2_jupyter.png) | ![alt](images/img2_streamlit.png) |\n",
    "| Pick and choose        |![alt](images/img5_jupyter.gif) | ![alt](images/img5_streamlit.gif) |\n",
    "| Dataframes, caching and progress bars |![alt](images/img3_jupyter.gif) | ![alt](images/img3_streamlit.gif) |\n",
    "| Plots                  |![alt](images/img4_jupyter.png) | ![alt](images/img4_streamlit.png) |\n"
   ]
  },
  {
   "attachments": {},
   "cell_type": "markdown",
   "metadata": {},
   "source": [
    "## ps\n",
    "\n",
    "This is a very early beta and my first try at open source, so please share your thoughts and reach out with any questions/critiques!"
   ]
  }
 ],
 "metadata": {
  "kernelspec": {
   "display_name": "streamlit-jupyter-lqlnUict",
   "language": "python",
   "name": "python3"
  },
  "language_info": {
   "name": "python",
   "version": "3.8.16 (default, Dec 28 2022, 17:38:27) \n[Clang 14.0.0 (clang-1400.0.29.202)]"
  },
  "orig_nbformat": 4,
  "vscode": {
   "interpreter": {
    "hash": "b6ff95381c780e3419cbc37a2ed3180441888ce6a744f28bbc9e6d385d4b46b2"
   }
  }
 },
 "nbformat": 4,
 "nbformat_minor": 2
}
