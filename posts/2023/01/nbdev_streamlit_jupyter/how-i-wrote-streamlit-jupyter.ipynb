{
 "cells": [
  {
   "cell_type": "raw",
   "metadata": {},
   "source": [
    "---\n",
    "aliases:\n",
    "- /2023/01/16/nbdev-streamlit-jupyter.html\n",
    "\n",
    "author: David Dobrinskiy\n",
    "badges: true\n",
    "categories:\n",
    "- nbdev\n",
    "- streamlit\n",
    "- jupyter\n",
    "\n",
    "date: '2023-01-16'\n",
    "output-file: nbdev-streamlit-jupyter.html\n",
    "title: how I wrote a wrapper for streamlit in jupyter \n",
    "toc: true \n",
    "\n",
    "---\n",
    "\n"
   ]
  },
  {
   "attachments": {},
   "cell_type": "markdown",
   "metadata": {},
   "source": [
    "## plan\n",
    "\n",
    "* what is streamlit\n",
    "* using wrappers (decorators) to make it work\n",
    "* using context managers\n",
    "* using nbdev to export a single notebook for your streamlit app\n",
    "* using nbdev to create a library\n",
    "* making a logo for my library\n",
    "* support materical (nbqa, pipenv sync)"
   ]
  },
  {
   "attachments": {},
   "cell_type": "markdown",
   "metadata": {},
   "source": [
    "In my [previous post](/2023/01/07/streamlit-jupyter-new-library.html) I announced a new library I created called streamlit-jupyter that allows you to use streamlit in a jupyter notebook. In this post I will show you how I created it.\n",
    "\n",
    "This will involve gritty python details, such as:\n",
    "\n",
    "- decorators\n",
    "- context managers\n",
    "- literal programming (using [nbdev](https://nbdev.fast.ai) framework by Jeremy Howard, the creator of fastai)"
   ]
  },
  {
   "cell_type": "code",
   "execution_count": null,
   "metadata": {},
   "outputs": [],
   "source": []
  },
  {
   "cell_type": "code",
   "execution_count": null,
   "metadata": {},
   "outputs": [],
   "source": []
  },
  {
   "cell_type": "code",
   "execution_count": null,
   "metadata": {},
   "outputs": [],
   "source": []
  },
  {
   "attachments": {},
   "cell_type": "markdown",
   "metadata": {},
   "source": [
    "## Demonstration\n",
    "\n",
    "\n",
    "\n",
    "|  | <img src=\"./images/favicon_jupyter.ico\" width=\"30\" /> Jupyter | <img src=\"./images/favicon_streamlit.ico\" height=\"25\" /> Streamlit  |\n",
    "|:----------------------:|:------------------------------:|:---------------------------------:|\n",
    "| Markdown and headings  |![alt](images/img1_jupyter.png) | ![alt](images/img1_streamlit.png) |\n",
    "| Interactive data entry |![alt](images/img2_jupyter.png) | ![alt](images/img2_streamlit.png) |\n",
    "| Pick and choose        |![alt](images/img5_jupyter.gif) | ![alt](images/img5_streamlit.gif) |\n",
    "| Dataframes, caching and progress bars |![alt](images/img3_jupyter.gif) | ![alt](images/img3_streamlit.gif) |\n",
    "| Plots                  |![alt](images/img4_jupyter.png) | ![alt](images/img4_streamlit.png) |\n"
   ]
  }
 ],
 "metadata": {
  "kernelspec": {
   "display_name": "streamlit-jupyter-lqlnUict",
   "language": "python",
   "name": "python3"
  },
  "language_info": {
   "codemirror_mode": {
    "name": "ipython",
    "version": 3
   },
   "file_extension": ".py",
   "mimetype": "text/x-python",
   "name": "python",
   "nbconvert_exporter": "python",
   "pygments_lexer": "ipython3",
   "version": "3.8.16"
  },
  "orig_nbformat": 4,
  "vscode": {
   "interpreter": {
    "hash": "b6ff95381c780e3419cbc37a2ed3180441888ce6a744f28bbc9e6d385d4b46b2"
   }
  }
 },
 "nbformat": 4,
 "nbformat_minor": 2
}
