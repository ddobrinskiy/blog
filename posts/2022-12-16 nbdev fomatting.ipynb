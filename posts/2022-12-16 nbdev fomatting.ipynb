{
 "cells": [
  {
   "cell_type": "raw",
   "metadata": {},
   "source": [
    "---\n",
    "aliases:\n",
    "- /2022/12/16/nbdev-formating-and-linting.html\n",
    "\n",
    "author: David Dobrinskiy\n",
    "badges: true\n",
    "categories:\n",
    "- nbdev\n",
    "- black\n",
    "- mypy\n",
    "- pre-commit\n",
    "date: '2022-12-16'\n",
    "output-file: nbdev-formating-and-linting.html\n",
    "title: nbdev formating and linting \n",
    "toc: true \n",
    "\n",
    "---\n",
    "\n"
   ]
  },
  {
   "cell_type": "markdown",
   "metadata": {},
   "source": [
    "## Introduction\n",
    "\n",
    "> This is a test of nbdev formatting\n",
    "\n",
    "nbdev is a great tool.\n",
    "\n",
    "However some of you may not be comfortable with the default [fastai codestyle](https://docs.fast.ai/dev/style.html)\n",
    "\n",
    "This post will show you how to integrate your nbdev workflows with industry standard tools like:\n",
    "\n",
    "- [black]()\n",
    "- [isort]()\n",
    "- [mypy]()\n",
    "- [pre-commit]()\n",
    "\n",
    "Source code for this post can be found [here](https://github.com/ddobrinskiy/blog/tree/master/posts/2022-12-16%20nbdev%20fomatting.ipynb)"
   ]
  },
  {
   "cell_type": "code",
   "execution_count": 1,
   "metadata": {},
   "outputs": [],
   "source": [
    "def hello_world():\n",
    "    print(\"Hello World!\")"
   ]
  }
 ],
 "metadata": {
  "kernelspec": {
   "display_name": "Python 3.11.0 ('py311')",
   "language": "python",
   "name": "python3"
  },
  "language_info": {
   "codemirror_mode": {
    "name": "ipython",
    "version": 3
   },
   "file_extension": ".py",
   "mimetype": "text/x-python",
   "name": "python",
   "nbconvert_exporter": "python",
   "pygments_lexer": "ipython3",
   "version": "3.11.0"
  },
  "orig_nbformat": 4,
  "vscode": {
   "interpreter": {
    "hash": "aabf569e3e906307a343f2c46f71e72d810d9954f55785187e5fe034c418186d"
   }
  }
 },
 "nbformat": 4,
 "nbformat_minor": 2
}
