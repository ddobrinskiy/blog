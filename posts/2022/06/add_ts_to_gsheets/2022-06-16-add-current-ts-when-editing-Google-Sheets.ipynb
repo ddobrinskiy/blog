{
 "cells": [
  {
   "cell_type": "raw",
   "metadata": {},
   "source": [
    "---\n",
    "aliases:\n",
    "- /google_docs/js/2022/06/16/add-current-ts-when-editing-Google-Sheets\n",
    "author: David Dobrinskiy\n",
    "badges: true\n",
    "categories:\n",
    "- js\n",
    "- google_docs\n",
    "date: '2022-06-16'\n",
    "output-file: 2022-06-16-add-current-ts-when-editing-google-sheets.html\n",
    "title: add current ts when editing a row in Google Sheets\n",
    "toc: true\n",
    "\n",
    "---\n",
    "\n"
   ]
  },
  {
   "cell_type": "markdown",
   "id": "6f3486f2",
   "metadata": {},
   "source": [
    "## Intro"
   ]
  },
  {
   "cell_type": "markdown",
   "id": "lasting-medicine",
   "metadata": {},
   "source": [
    "Go to `Extensions` -> `Apps Script`\n",
    "\n",
    "<img src=\"2022-06-16.gif\" width=\"500\"/>\n"
   ]
  },
  {
   "cell_type": "markdown",
   "id": "dcc264b5-d65a-4123-a80c-9ffba25f8968",
   "metadata": {},
   "source": [
    "Save this snippet as code. Because the function is named `onEdit`, sheets knows to run it every time the sheet is edited.\n",
    "\n",
    "```js\n",
    "// Code.gs file\n",
    "// don't forget to save & run (to get permissions)\n",
    "\n",
    "function onEdit() {\n",
    "  var colNum = 1  // hard coded number of column to put the date in\n",
    "  var s = SpreadsheetApp.getActiveSheet();\n",
    "  if( s.getName() === \"Sheet 1\" || s.getName() === \"Sheet 2\" ) { //checks that we're on the correct sheet\n",
    "    var r = s.getActiveCell(); // r is our active cell\n",
    "    if( r.getColumn() !== colNum ) { //checks the edited column\n",
    "      var nextCell = s.getRange(r.getRow(),colNum); // next cell will be on the same row in column #colNum\n",
    "      if( nextCell.getValue() === '' ) // is nextCell empty? DO NOT OVERWRITE EXISTING TIMESTAMPS\n",
    "        nextCell.setValue(new Date());  // add current timestamp & date to second column\n",
    "    }\n",
    "  }\n",
    "}\n",
    "\n",
    "```"
   ]
  },
  {
   "cell_type": "markdown",
   "id": "62331db7-f726-407e-bf34-0419f5e1d1f0",
   "metadata": {},
   "source": [
    "See this script in action:\n",
    "\n",
    "<img src=\"2022-06-16-demo.gif\" width=\"500\"/>"
   ]
  },
  {
   "cell_type": "code",
   "execution_count": null,
   "id": "e15b1cc9-c0dc-4165-9286-f0aeb9f995f3",
   "metadata": {},
   "outputs": [],
   "source": [
    "https://github.com/ddobrinskiy/blog/blob/master/posts/2022/06/add_ts_to_gsheets/2022-06-16-add-current-ts-when-editing-Google-Sheets.ipynb\n",
    "https://github.dev/ddobrinskiy/blog/blob/main/posts/2022/06/add_ts_to_gsheets/2022-06-16-add-current-ts-when-editing-Google-Sheets.ipynb"
   ]
  }
 ],
 "metadata": {
  "kernelspec": {
   "display_name": "Python 3.11.0 ('py311')",
   "language": "python",
   "name": "python3"
  },
  "language_info": {
   "codemirror_mode": {
    "name": "ipython",
    "version": 3
   },
   "file_extension": ".py",
   "mimetype": "text/x-python",
   "name": "python",
   "nbconvert_exporter": "python",
   "pygments_lexer": "ipython3",
   "version": "3.11.0"
  },
  "vscode": {
   "interpreter": {
    "hash": "aabf569e3e906307a343f2c46f71e72d810d9954f55785187e5fe034c418186d"
   }
  }
 },
 "nbformat": 4,
 "nbformat_minor": 5
}
