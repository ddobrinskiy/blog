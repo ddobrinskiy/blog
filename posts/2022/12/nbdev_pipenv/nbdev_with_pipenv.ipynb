{
 "cells": [
  {
   "cell_type": "raw",
   "metadata": {},
   "source": [
    "---\n",
    "aliases:\n",
    "- /2022/12/nbdev-and-pipenv.html\n",
    "\n",
    "author: David Dobrinskiy\n",
    "badges: true\n",
    "categories:\n",
    "- nbdev\n",
    "- pipenv\n",
    "date: '2022-12-19'\n",
    "output-file: nbdev-and-pipenv.html\n",
    "title: Reproducible environment in nbdev with Pipenv\n",
    "toc: true \n",
    "\n",
    "---\n",
    "\n"
   ]
  },
  {
   "cell_type": "markdown",
   "metadata": {},
   "source": [
    "## Introduction\n",
    "\n",
    "If you're reading this, you're probably familiar with [nbdev](https://nbdev.fast.ai/), a system for creating Python libraries from Jupyter notebooks. \n",
    "\n",
    "The only trouble I have with it is keeping track of dependencies, especially when you have multiple projects or expect other people to use your code.\n",
    "\n",
    "In this post, I'll show you how to set up a new nbdev project using [Pipenv](https://pipenv.pypa.io/en/latest/), a tool for managing Python dependencies. This will allow you to easily create a new project, install dependencies, and run your code without having to worry about setting up a virtual environment.\n",
    "\n",
    "View source code on GitHub [here](https://github.com/ddobrinskiy/blog/tree/master/posts/2022/12/nbdev_pipenv/src)\n"
   ]
  },
  {
   "cell_type": "markdown",
   "metadata": {},
   "source": [
    "## Some background on Pipenv\n",
    "\n",
    "If you're not familiar with Pipenv, it's a tool for managing Python dependencies. It's similar to [virtualenv](https://virtualenv.pypa.io/en/latest/), [conda](https://docs.conda.io/en/latest/) or [poetry](https://python-poetry.org/), but it's a bit more user-friendly.\n",
    "\n",
    "Setting up a new project with Pipenv is easy. You just need to run `pipenv install` in the project directory. This will create a new virtual environment and install all the dependencies listed in the `Pipfile`.\n",
    "\n",
    "If you want to add a new dependency, you can run `pipenv install <package_name>`. This will install the package and add it to the `Pipfile`, keeping track of the version you installed.\n",
    "\n",
    "If you want to install a specific version of a package, you can run `pipenv install <package_name>==<version>`. This will install the package and add it to the `Pipfile` with the specified version.\n"
   ]
  },
  {
   "cell_type": "markdown",
   "metadata": {},
   "source": [
    "Example Pipfile:\n",
    "\n",
    "```{.toml filename=\"Pipfile\"}\n",
    "[[source]]\n",
    "url = \"https://pypi.org/simple\"\n",
    "verify_ssl = true\n",
    "name = \"pypi\"\n",
    "\n",
    "[packages]\n",
    "requests = \"==2.28\"\n",
    "pandas = \"*\"\n",
    "\n",
    "[dev-packages]\n",
    "black = {version = \"==22.12.0\", extras = [\"jupyter\"]}\n",
    "pre-commit = \"==2.20\"\n",
    "ipykernel = \"*\"\n",
    "\n",
    "[requires]\n",
    "python_version = \"3.10\"\n",
    "\n",
    "```"
   ]
  },
  {
   "cell_type": "markdown",
   "metadata": {},
   "source": [
    "By default in nbdev you have to manually set all your dependencies in the `settings.ini` file, which are then parsed in `setup.py`. This is fine if you only have a few dependencies, but it can get messy if you have a lot of them.\n",
    "\n",
    "We will be exporting the dependencies from the `Pipfile` to the `setup.cfg` file to override the default behavior of `setup.py`"
   ]
  },
  {
   "cell_type": "markdown",
   "metadata": {},
   "source": [
    "## Step 1: generate `setup.cfg` from `Pipfile`\n",
    "\n",
    "tbd"
   ]
  },
  {
   "cell_type": "markdown",
   "metadata": {},
   "source": [
    "## Step 2: remove nbdev defaults\n",
    "\n",
    "Comment out or remove dependencies from `settings.ini` (`requirements` and `dev_requirements`)\n",
    "\n",
    "```{.python filename=\"settings.ini\"}\n",
    "...\n",
    "### Optional ###\n",
    "# requirements = fastcore pandas\n",
    "# dev_requirements =  nbdev nbconvert nbdev_template\n",
    "```\n",
    "\n",
    "Now remove the `install_requires` and `extras_require` lines from `setup.py`, otherwise they will overwrite our `setup.cfg` config\n",
    "\n",
    "\n",
    "```{.python filename=\"setup.py\"}\n",
    "setuptools.setup(\n",
    "    ...\n",
    "    include_package_data = True,\n",
    "    # install_requires = requirements,\n",
    "    # extras_require={ 'dev': dev_requirements },\n",
    "    dependency_links = cfg.get('dep_links','').split(),\n",
    "    ...\n",
    "    )\n",
    "\n",
    "```"
   ]
  },
  {
   "cell_type": "markdown",
   "metadata": {},
   "source": [
    "## Step 3: install the package\n",
    "\n",
    "test that everything works on a fresh environment\n",
    "\n",
    "```{.bash}\n",
    "pip install -e .\n",
    "```\n",
    "\n",
    "\n",
    "if you want to install dev packages as well, run\n",
    "\n",
    "```{.bash}\n",
    "pip install -e '.[dev]'\n",
    "```"
   ]
  },
  {
   "cell_type": "markdown",
   "metadata": {},
   "source": [
    "## Extra reading:\n",
    "\n",
    "- [nbdev docs](https://nbdev.fast.ai/)\n",
    "- [Pipenv docs](https://pipenv.pypa.io/en/latest/)\n",
    "- [setuptools docs](https://setuptools.pypa.io/en/latest/userguide/quickstart.html)"
   ]
  },
  {
   "cell_type": "markdown",
   "metadata": {},
   "source": []
  }
 ],
 "metadata": {
  "kernelspec": {
   "display_name": "Python 3.11.0 ('py311')",
   "language": "python",
   "name": "python3"
  },
  "language_info": {
   "codemirror_mode": {
    "name": "ipython",
    "version": 3
   },
   "file_extension": ".py",
   "mimetype": "text/x-python",
   "name": "python",
   "nbconvert_exporter": "python",
   "pygments_lexer": "ipython3",
   "version": "3.11.0"
  },
  "orig_nbformat": 4,
  "vscode": {
   "interpreter": {
    "hash": "aabf569e3e906307a343f2c46f71e72d810d9954f55785187e5fe034c418186d"
   }
  }
 },
 "nbformat": 4,
 "nbformat_minor": 2
}
