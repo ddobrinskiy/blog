{
 "cells": [
  {
   "cell_type": "raw",
   "metadata": {},
   "source": [
    "---\n",
    "aliases:\n",
    "- /2022/12/16/nbdev-formating-and-linting.html\n",
    "\n",
    "author: David Dobrinskiy\n",
    "badges: true\n",
    "categories:\n",
    "- nbdev\n",
    "- black\n",
    "- mypy\n",
    "- pre-commit\n",
    "date: '2022-12-16'\n",
    "output-file: nbdev-formating-and-linting.html\n",
    "title: nbdev formating and linting \n",
    "toc: true \n",
    "\n",
    "---\n",
    "\n"
   ]
  },
  {
   "cell_type": "markdown",
   "metadata": {},
   "source": [
    "## Introduction\n",
    "\n",
    "> This is a test of nbdev formatting\n",
    "\n",
    "nbdev is a great tool.\n",
    "\n",
    "However some of you may not be comfortable with the default [fastai codestyle](https://docs.fast.ai/dev/style.html)\n",
    "\n",
    "This post will show you how to integrate your nbdev workflows with industry standard tools like:\n",
    "\n",
    "- [black]()\n",
    "- [isort]()\n",
    "- [mypy]()\n",
    "- [pre-commit]()\n",
    "\n",
    "Source code for this post can be found [here](https://github.com/ddobrinskiy/blog/tree/master/posts/2022-12-16%20nbdev%20fomatting.ipynb)"
   ]
  },
  {
   "cell_type": "code",
   "execution_count": 1,
   "metadata": {},
   "outputs": [],
   "source": [
    "def hello_world():\n",
    "    print(\"Hello World!\")"
   ]
  },
  {
   "cell_type": "markdown",
   "metadata": {},
   "source": [
    "## nbqa\n",
    "\n",
    "use [nbqa]() to run black, isort, mypy, etc on your notebooks\n",
    "\n",
    "```bash\n",
    "nbqa black nbs/\n",
    "```"
   ]
  },
  {
   "cell_type": "markdown",
   "metadata": {},
   "source": [
    "## isort and mypy\n",
    "\n",
    "nbqa allows you to apply any tool that can be run from the command line to your notebooks.\n",
    "\n",
    "```bash\n",
    "nbqa isort nbs/\n",
    "nbqa mypy nbs/\n",
    "```\n"
   ]
  },
  {
   "cell_type": "markdown",
   "metadata": {},
   "source": [
    "## Automating your flows with Makefile\n",
    "\n",
    "make is a great tool for automating your workflows\n",
    "\n",
    "```makefile\n",
    "# Makefile\n",
    "format:\n",
    "    nbqa black nbs/\n",
    "    nbqa isort nbs/\n",
    "    nbqa mypy nbs/\n",
    "``` "
   ]
  },
  {
   "cell_type": "markdown",
   "metadata": {},
   "source": [
    "## pre-commit\n",
    "\n",
    "### install pre-commit\n",
    "\n",
    "```bash\n",
    "brew install pre-commit\n",
    "```\n",
    "\n",
    "or\n",
    "\n",
    "```bash\n",
    "pip install pre-commit\n",
    "```\n",
    "\n",
    "### create .pre-commit-config.yaml\n",
    "\n",
    "```yaml\n",
    "repos:\n",
    "  - repo: https://github.com/fastai/nbdev\n",
    "    rev: 2.2.10\n",
    "    hooks:\n",
    "      - id: nbdev_clean\n",
    "      - id: nbdev_export\n",
    "\n",
    "```\n",
    "\n",
    "** Add nbqa hooks **\n",
    "\n",
    "```yaml\n",
    "  - repo: https://github.com/nbQA-dev/nbQA\n",
    "    rev: 1.5.3\n",
    "    hooks:\n",
    "      - id: nbqa-mypy\n",
    "        args: [\"--ignore-missing-imports\", \"--check-untyped-defs\"]\n",
    "        exclude: \"nbs_rnd/.*\"\n",
    "        additional_dependencies: [\"mypy\", \"types-toml\", \"types-requests\"]\n",
    "      - id: nbqa-black\n",
    "        exclude: \"nbs_rnd/.*\"\n",
    "      - id: nbqa-isort\n",
    "        exclude: \"nbs_rnd/.*\"\n",
    "```\n",
    "\n",
    "\n",
    "** control your hooks behaviour **\n",
    "\n",
    "```yaml\n",
    "  - repo: https://github.com/nbQA-dev/nbQA\n",
    "    rev: 1.5.3\n",
    "    hooks:\n",
    "      - id: nbqa-mypy\n",
    "        args: [\"--ignore-missing-imports\", \"--check-untyped-defs\"] # pass args to mypy\n",
    "        exclude: \"directory_to_exclude/.*\" # eclude any directory/files from formatting\n",
    "        additional_dependencies: [\"mypy\", \"types-toml\", \"types-requests\"] # install additional dependencies\n",
    "      - id: nbqa-black\n",
    "        exclude: \"directory_to_exclude/.*\" # eclude any directory/files from formatting\n",
    "      - id: nbqa-isort\n",
    "        exclude: \"directory_to_exclude/.*\" # eclude any directory/files from formatting\n",
    "```"
   ]
  },
  {
   "cell_type": "markdown",
   "metadata": {},
   "source": [
    "## reproducible environments with Pipenv/Poetry\n",
    "\n",
    "Sometimes you may run into reproducibility issues.\n",
    "\n",
    "The best way to avoid it is to use a dependency manager, such as:\n",
    "\n",
    "- [Pipenv]()\n",
    "- [Poetry]()\n",
    "- [virtualenv]()\n",
    "\n",
    "But how do you integrate it with nbdev, since it uses `settings.ini` to manage dependencies?\n",
    "\n",
    "I will show an example of how to use Pipenv with nbdev."
   ]
  },
  {
   "cell_type": "markdown",
   "metadata": {},
   "source": [
    "## Conclusion\n",
    "\n",
    "I hope this post was helpful. Here are some links to the source code:\n",
    "\n",
    "- [Makefile]()\n",
    "- [.pre-commit-config.yaml]()\n",
    "- [settings.ini]\n",
    "- [generate_requirements.py]()"
   ]
  },
  {
   "cell_type": "markdown",
   "metadata": {},
   "source": []
  }
 ],
 "metadata": {
  "kernelspec": {
   "display_name": "Python 3.11.0 ('py311')",
   "language": "python",
   "name": "python3"
  },
  "language_info": {
   "codemirror_mode": {
    "name": "ipython",
    "version": 3
   },
   "file_extension": ".py",
   "mimetype": "text/x-python",
   "name": "python",
   "nbconvert_exporter": "python",
   "pygments_lexer": "ipython3",
   "version": "3.11.0"
  },
  "orig_nbformat": 4,
  "vscode": {
   "interpreter": {
    "hash": "aabf569e3e906307a343f2c46f71e72d810d9954f55785187e5fe034c418186d"
   }
  }
 },
 "nbformat": 4,
 "nbformat_minor": 2
}
